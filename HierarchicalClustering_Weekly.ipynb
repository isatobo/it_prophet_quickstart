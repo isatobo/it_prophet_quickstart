{
 "cells": [
  {
   "cell_type": "code",
   "execution_count": null,
   "metadata": {},
   "outputs": [],
   "source": [
    "import numpy as np\n",
    "import seaborn as sns\n",
    "import pandas as pd\n",
    "from scipy import stats\n",
    "import scipy.cluster.hierarchy as hac\n",
    "import matplotlib.pyplot as plt"
   ]
  },
  {
   "cell_type": "code",
   "execution_count": null,
   "metadata": {},
   "outputs": [],
   "source": [
    "POLONIEX_OHLCV_BASEURL = 'https://poloniex.com/public?command=returnChartData&currencyPair='\n",
    "\n",
    "\"\"\"\n",
    "https://poloniex.com/public?command=returnChartData&currencyPair=BTC_POT&start=1435699200&end=9999999999&period=14400\n",
    "\n",
    "\"\"\"\n",
    "\n",
    "def get_ohlcv_poloniex(pair='BTC_ETH', start=1435699200, end=9999999999, period=900):\n",
    "    \"\"\"\n",
    "    returns ohlcv (open/high/low/close/volume) data for poloniex as pandas dataframe\n",
    "    convert to unix timestamp using https://coderstoolbox.net/unixtimestamp/\n",
    "    :param pair: str pair on poloniex\n",
    "    :param start: int unix timestamp of beginning time\n",
    "    :param end: int unix timestamp of ending time\n",
    "    :param period: int candle width in seconds\n",
    "    :return: pandas df of ohlcv data from poloniex for specified pair, times, and period\n",
    "    \"\"\"\n",
    "    query = POLONIEX_OHLCV_BASEURL + pair + '&start=' + str(start) + '&end=' + str(end) + '&period=' + str(period)\n",
    "    resp = requests.get(query)\n",
    "\n",
    "    if resp.status_code != 200:\n",
    "        raise requests.ApiError('GET /tasks/ {}'.format(resp.status_code))\n",
    "\n",
    "    return pd.DataFrame(resp.json())"
   ]
  },
  {
   "cell_type": "code",
   "execution_count": null,
   "metadata": {},
   "outputs": [],
   "source": [
    "df_us_btc = get_ohlcv_poloniex(pair='USDT_BTC', start=1483600958, end=9999999999, period=86400)\n",
    "df_us_btc['ds'] = pd.to_datetime(df_us_btc['date'], unit='s')\n",
    "df_us_btc['y'] = df_us_btc['weightedAverage']\n",
    "df_us_btc['logPrice'] = df_us_btc['weightedAverage'].apply(np.log)"
   ]
  },
  {
   "cell_type": "code",
   "execution_count": null,
   "metadata": {},
   "outputs": [],
   "source": [
    "df_us_eth = get_ohlcv_poloniex(pair='USDT_ETH', start=1483600958, end=9999999999, period=86400)\n",
    "df_us_eth['ds'] = pd.to_datetime(df_us_eth['date'], unit='s')\n",
    "df_us_eth['y'] = df_us_eth['weightedAverage']\n",
    "df_us_eth['logPrice'] = df_us_eth['weightedAverage'].apply(np.log)"
   ]
  },
  {
   "cell_type": "code",
   "execution_count": null,
   "metadata": {},
   "outputs": [],
   "source": [
    "df_us_ltc = get_ohlcv_poloniex(pair='USDT_LTC', start=1483600958, end=9999999999, period=86400)\n",
    "df_us_ltc['ds'] = pd.to_datetime(df_us_ltc['date'], unit='s')\n",
    "df_us_ltc['y'] = df_us_ltc['weightedAverage']\n",
    "df_us_ltc['logPrice'] = df_us_ltc['weightedAverage'].apply(np.log)"
   ]
  },
  {
   "cell_type": "code",
   "execution_count": null,
   "metadata": {},
   "outputs": [],
   "source": [
    "df_us_dash = get_ohlcv_poloniex(pair='USDT_DASH', start=1483600958, end=9999999999, period=86400)\n",
    "df_us_dash['ds'] = pd.to_datetime(df_us_dash['date'], unit='s')\n",
    "df_us_dash['y'] = df_us_dash['weightedAverage']\n",
    "df_us_dash['logPrice'] = df_us_dash['weightedAverage'].apply(np.log)"
   ]
  },
  {
   "cell_type": "code",
   "execution_count": null,
   "metadata": {},
   "outputs": [],
   "source": [
    "df_btc_eth = get_ohlcv_poloniex(pair='BTC_ETH', start=1483600958, end=9999999999, period=86400)\n",
    "df_btc_eth['ds'] = pd.to_datetime(df_btc_eth['date'], unit='s')\n",
    "df_btc_eth['y'] = df_btc_eth['weightedAverage']\n",
    "df_btc_eth['logPrice'] = df_btc_eth['weightedAverage'].apply(np.log)"
   ]
  },
  {
   "cell_type": "code",
   "execution_count": null,
   "metadata": {},
   "outputs": [],
   "source": [
    "df_btc_ltc = get_ohlcv_poloniex(pair='BTC_LTC', start=1483600958, end=9999999999, period=86400)\n",
    "df_btc_ltc['ds'] = pd.to_datetime(df_btc_ltc['date'], unit='s')\n",
    "df_btc_ltc['y'] = df_btc_ltc['weightedAverage']\n",
    "df_btc_ltc['logPrice'] = df_btc_ltc['weightedAverage'].apply(np.log)"
   ]
  },
  {
   "cell_type": "code",
   "execution_count": null,
   "metadata": {},
   "outputs": [],
   "source": [
    "df_btc_dash = get_ohlcv_poloniex(pair='BTC_DASH', start=1483600958, end=9999999999, period=86400)\n",
    "df_btc_dash['ds'] = pd.to_datetime(df_btc_dash['date'], unit='s')\n",
    "df_btc_dash['y'] = df_btc_dash['weightedAverage']\n",
    "df_btc_dash['logPrice'] = df_btc_dash['weightedAverage'].apply(np.log)"
   ]
  },
  {
   "cell_type": "code",
   "execution_count": null,
   "metadata": {},
   "outputs": [],
   "source": []
  }
 ],
 "metadata": {
  "kernelspec": {
   "display_name": "Python 3",
   "language": "python",
   "name": "python3"
  },
  "language_info": {
   "codemirror_mode": {
    "name": "ipython",
    "version": 3
   },
   "file_extension": ".py",
   "mimetype": "text/x-python",
   "name": "python",
   "nbconvert_exporter": "python",
   "pygments_lexer": "ipython3",
   "version": "3.6.5"
  }
 },
 "nbformat": 4,
 "nbformat_minor": 2
}
