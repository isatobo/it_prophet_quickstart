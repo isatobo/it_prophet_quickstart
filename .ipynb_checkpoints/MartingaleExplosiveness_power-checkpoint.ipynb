{
 "cells": [
  {
   "cell_type": "code",
   "execution_count": null,
   "metadata": {},
   "outputs": [],
   "source": [
    "%matplotlib inline\n",
    "import os, sys\n",
    "import pandas as pd\n",
    "import numpy as np\n",
    "from datetime import timedelta\n",
    "#from dpp.feature_generation.feature_generator import FeatureGenerator"
   ]
  },
  {
   "cell_type": "code",
   "execution_count": null,
   "metadata": {},
   "outputs": [],
   "source": [
    "import requests\n",
    "\n",
    "POLONIEX_OHLCV_BASEURL = 'https://poloniex.com/public?command=returnChartData&currencyPair='\n",
    "\n",
    "\"\"\"\n",
    "https://poloniex.com/public?command=returnChartData&currencyPair=BTC_POT&start=1435699200&end=9999999999&period=14400\n",
    "\n",
    "\"\"\"\n",
    "\n",
    "def get_ohlcv_poloniex(pair='BTC_ETH', start=1435699200, end=9999999999, period=900):\n",
    "    \"\"\"\n",
    "    returns ohlcv (open/high/low/close/volume) data for poloniex as pandas dataframe\n",
    "    convert to unix timestamp using https://coderstoolbox.net/unixtimestamp/\n",
    "    :param pair: str pair on poloniex\n",
    "    :param start: int unix timestamp of beginning time\n",
    "    :param end: int unix timestamp of ending time\n",
    "    :param period: int candle width in seconds\n",
    "    :return: pandas df of ohlcv data from poloniex for specified pair, times, and period\n",
    "    \"\"\"\n",
    "    query = POLONIEX_OHLCV_BASEURL + pair + '&start=' + str(start) + '&end=' + str(end) + '&period=' + str(period)\n",
    "    resp = requests.get(query)\n",
    "\n",
    "    if resp.status_code != 200:\n",
    "        raise requests.ApiError('GET /tasks/ {}'.format(resp.status_code))\n",
    "\n",
    "    return pd.DataFrame(resp.json())"
   ]
  },
  {
   "cell_type": "code",
   "execution_count": null,
   "metadata": {},
   "outputs": [],
   "source": [
    "df = get_ohlcv_poloniex(pair='USDT_BTC', start=1483600958, end=9999999999, period=86400)\n",
    "#one day in seconds\n",
    "df['ds'] = pd.to_datetime(df['date'], unit='s')\n",
    "df['y'] = df['weightedAverage']\n",
    "df['logPrice'] = df['weightedAverage'].apply(np.log)"
   ]
  },
  {
   "cell_type": "code",
   "execution_count": null,
   "metadata": {},
   "outputs": [],
   "source": [
    "class StructuralBreakFeatures:\n",
    "    DEFAULT_FEATURES_TO_CALCULATE = []\n",
    "    DROP_COLUMNS = ['open', 'high', 'low']\n",
    "\n",
    "    def __init__(self,\n",
    "                 features_to_calculate=None,\n",
    "                 interval_size: timedelta=timedelta(days=1),\n",
    "                 drop_columns=None):\n",
    "        if features_to_calculate is None:\n",
    "            features_to_calculate = self.DEFAULT_FEATURES_TO_CALCULATE\n",
    "\n",
    "        if drop_columns is None:\n",
    "            drop_columns = self.DROP_COLUMNS\n",
    "\n",
    "        # Create feature generator and compute features\n",
    "        self.interval_type = 'time'\n",
    "        self.interval_size = interval_size\n",
    "        self.features_to_calculate = features_to_calculate\n",
    "        self.drop_columns = drop_columns\n",
    "\n",
    "    def get_feature_data(self, data_df):\n",
    "        \"\"\" Compute all features.\n",
    "        :param data_df:\n",
    "        :return:\n",
    "        \"\"\"\n",
    "        feature_generator = FeatureGenerator(self.interval_type,\n",
    "                                             self.interval_size,\n",
    "                                             self.features_to_calculate)\n",
    "        data_df_enriched = feature_generator.process_bulk_ticks(data_df)\n",
    "        data_df_enriched = data_df_enriched.drop(self.DROP_COLUMNS, axis=1)\n",
    "\n",
    "        return data_df_enriched"
   ]
  },
  {
   "cell_type": "code",
   "execution_count": null,
   "metadata": {},
   "outputs": [],
   "source": [
    "martingale_poly2_features = StructuralBreakFeatures([\n",
    "    ('martingale_test', 2, 'power'),     \n",
    "    ('martingale_test', 4, 'power'),     \n",
    "    ('martingale_test', 8, 'power'),     \n",
    "    ('martingale_test', 16, 'power'),     \n",
    "    ('martingale_test', 32, 'power'),    \n",
    "    ('martingale_test', 64, 'power'),     \n",
    "    ('martingale_test', 128, 'power'),     \n",
    "    ('martingale_test', 256, 'power'),     \n",
    "    ('martingale_test', 512, 'power'),     \n",
    "    ('martingale_test', 1024, 'power'),     \n",
    "])\n",
    "martingale_poly2_enriched = martingale_poly2_features.get_feature_data(df)\n",
    "martingale_poly2_enriched.tail(2)"
   ]
  },
  {
   "cell_type": "code",
   "execution_count": null,
   "metadata": {},
   "outputs": [],
   "source": [
    "fig, ax = plt.subplots(figsize=(16,9))\n",
    "martingale_power_enriched['close'].plot(ax=ax, style='b-', legend=True)\n",
    "martingale_power_enriched['2_martingale_test_power'].plot(ax=ax, style='ro', secondary_y=True, legend=True)"
   ]
  },
  {
   "cell_type": "code",
   "execution_count": null,
   "metadata": {},
   "outputs": [],
   "source": [
    "fig, ax = plt.subplots(figsize=(16,9))\n",
    "martingale_power_enriched['close'].plot(ax=ax, style='b-', legend=True)\n",
    "martingale_power_enriched['4_martingale_test_power'].plot(ax=ax, style='ro', secondary_y=True, legend=True)"
   ]
  },
  {
   "cell_type": "code",
   "execution_count": null,
   "metadata": {},
   "outputs": [],
   "source": [
    "fig, ax = plt.subplots(figsize=(16,9))\n",
    "martingale_power_enriched['close'].plot(ax=ax, style='b-', legend=True)\n",
    "martingale_power_enriched['8_martingale_test_power'].plot(ax=ax, style='ro', secondary_y=True, legend=True)"
   ]
  },
  {
   "cell_type": "code",
   "execution_count": null,
   "metadata": {},
   "outputs": [],
   "source": [
    "fig, ax = plt.subplots(figsize=(16,9))\n",
    "martingale_power_enriched['close'].plot(ax=ax, style='b-', legend=True)\n",
    "martingale_power_enriched['16_martingale_test_power'].plot(ax=ax, style='ro', secondary_y=True, legend=True)"
   ]
  },
  {
   "cell_type": "code",
   "execution_count": null,
   "metadata": {},
   "outputs": [],
   "source": [
    "fig, ax = plt.subplots(figsize=(16,9))\n",
    "martingale_power_enriched['close'].plot(ax=ax, style='b-', legend=True)\n",
    "martingale_power_enriched['32_martingale_test_power'].plot(ax=ax, style='ro', secondary_y=True, legend=True)"
   ]
  },
  {
   "cell_type": "code",
   "execution_count": null,
   "metadata": {},
   "outputs": [],
   "source": [
    "fig, ax = plt.subplots(figsize=(16,9))\n",
    "martingale_power_enriched['close'].plot(ax=ax, style='b-', legend=True)\n",
    "martingale_power_enriched['64_martingale_test_power'].plot(ax=ax, style='ro', secondary_y=True, legend=True)"
   ]
  },
  {
   "cell_type": "code",
   "execution_count": null,
   "metadata": {},
   "outputs": [],
   "source": [
    "fig, ax = plt.subplots(figsize=(16,9))\n",
    "martingale_power_enriched['close'].plot(ax=ax, style='b-', legend=True)\n",
    "martingale_power_enriched['128_martingale_test_power'].plot(ax=ax, style='ro', secondary_y=True, legend=True)"
   ]
  },
  {
   "cell_type": "code",
   "execution_count": null,
   "metadata": {},
   "outputs": [],
   "source": [
    "fig, ax = plt.subplots(figsize=(16,9))\n",
    "martingale_power_enriched['close'].plot(ax=ax, style='b-', legend=True)\n",
    "martingale_power_enriched['256_martingale_test_power'].plot(ax=ax, style='ro', secondary_y=True, legend=True)"
   ]
  },
  {
   "cell_type": "code",
   "execution_count": null,
   "metadata": {},
   "outputs": [],
   "source": [
    "fig, ax = plt.subplots(figsize=(16,9))\n",
    "martingale_power_enriched['close'].plot(ax=ax, style='b-', legend=True)\n",
    "martingale_power_enriched['512_martingale_test_power'].plot(ax=ax, style='ro', secondary_y=True, legend=True)"
   ]
  },
  {
   "cell_type": "code",
   "execution_count": null,
   "metadata": {},
   "outputs": [],
   "source": [
    "fig, ax = plt.subplots(figsize=(16,9))\n",
    "martingale_power_enriched['close'].plot(ax=ax, style='b-', legend=True)\n",
    "martingale_power_enriched['1024_martingale_test_power'].plot(ax=ax, style='ro', secondary_y=True, legend=True)"
   ]
  },
  {
   "cell_type": "markdown",
   "metadata": {},
   "source": [
    "## Martingale Discussion\n",
    "..."
   ]
  }
 ],
 "metadata": {
  "kernelspec": {
   "display_name": "Python 3",
   "language": "python",
   "name": "python3"
  },
  "language_info": {
   "codemirror_mode": {
    "name": "ipython",
    "version": 3
   },
   "file_extension": ".py",
   "mimetype": "text/x-python",
   "name": "python",
   "nbconvert_exporter": "python",
   "pygments_lexer": "ipython3",
   "version": "3.6.5"
  }
 },
 "nbformat": 4,
 "nbformat_minor": 2
}
