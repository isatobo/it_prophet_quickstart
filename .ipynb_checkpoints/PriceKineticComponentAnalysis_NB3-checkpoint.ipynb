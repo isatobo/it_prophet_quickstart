{
 "cells": [
  {
   "cell_type": "code",
   "execution_count": 58,
   "metadata": {},
   "outputs": [],
   "source": [
    "import pandas as pd\n",
    "from fbprophet import Prophet\n",
    "import numpy as np\n",
    "from sklearn.cluster import KMeans\n",
    "from pykalman import KalmanFilter \n",
    "from fbprophet.plot import add_changepoints_to_plot\n",
    "import matplotlib.pyplot as plt          \n",
    "%matplotlib inline"
   ]
  },
  {
   "cell_type": "code",
   "execution_count": 33,
   "metadata": {},
   "outputs": [],
   "source": [
    "import requests\n",
    "\n",
    "POLONIEX_OHLCV_BASEURL = 'https://poloniex.com/public?command=returnChartData&currencyPair='\n",
    "\n",
    "\"\"\"\n",
    "https://poloniex.com/public?command=returnChartData&currencyPair=BTC_POT&start=1435699200&end=9999999999&period=14400\n",
    "\n",
    "\"\"\"\n",
    "\n",
    "def get_ohlcv_poloniex(pair='BTC_ETH', start=1435699200, end=9999999999, period=900):\n",
    "    \"\"\"\n",
    "    returns ohlcv (open/high/low/close/volume) data for poloniex as pandas dataframe\n",
    "    convert to unix timestamp using https://coderstoolbox.net/unixtimestamp/\n",
    "    :param pair: str pair on poloniex\n",
    "    :param start: int unix timestamp of beginning time\n",
    "    :param end: int unix timestamp of ending time\n",
    "    :param period: int candle width in seconds\n",
    "    :return: pandas df of ohlcv data from poloniex for specified pair, times, and period\n",
    "    \"\"\"\n",
    "    query = POLONIEX_OHLCV_BASEURL + pair + '&start=' + str(start) + '&end=' + str(end) + '&period=' + str(period)\n",
    "    resp = requests.get(query)\n",
    "\n",
    "    if resp.status_code != 200:\n",
    "        raise requests.ApiError('GET /tasks/ {}'.format(resp.status_code))\n",
    "\n",
    "    return pd.DataFrame(resp.json())"
   ]
  },
  {
   "cell_type": "code",
   "execution_count": 34,
   "metadata": {},
   "outputs": [],
   "source": [
    "df = get_ohlcv_poloniex(pair='USDT_BTC', start=1483600958, end=9999999999, period=86400)\n",
    "#one day in seconds\n",
    "df['ds'] = pd.to_datetime(df['date'], unit='s')\n",
    "df['y'] = df['weightedAverage']"
   ]
  },
  {
   "cell_type": "code",
   "execution_count": 39,
   "metadata": {},
   "outputs": [],
   "source": [
    "def fitKCA(t,z,q,fwd=0):\n",
    "    \"\"\"\n",
    "        Inputs:\n",
    "        t: Iterable with time indices\n",
    "        z: Iterable with measurements\n",
    "        q: Scalar that multiplies the seed states covariance\n",
    "        fwd: number of steps to forecast (optional, default=0)\n",
    "        Output:\n",
    "        x[0]: smoothed state means of position velocity and acceleration\n",
    "        x[1]: smoothed state covar of position velocity and acceleration\n",
    "    \"\"\"\n",
    "    #1) Set up matrices A,H and a seed for Q\n",
    "    h = (t[-1]-t[0])/t.shape[0]\n",
    "    A=np.array([[1,h,.5*h**2],\n",
    "               [0,1,h],\n",
    "               [0,0,1]])\n",
    "    Q=q*np.eye(A.shape[0])\n",
    "    #2)Apply the filter\n",
    "    kf=KalmanFilter(transition_matrices=A,transition_covariance=Q)\n",
    "    #3) EM estimates\n",
    "    kf = kf.em(z)\n",
    "    #4) Smooth\n",
    "    x_mean,x_covar = kf.smooth(z)\n",
    "    #5) Forecast\n",
    "    for fwd_ in range(fwd):\n",
    "        x_mean_,x_covar_=kf.filter_update(filtered_state_mean=x_mean[-1], \\\n",
    "                                          filtered_state_covariance=x_covar[-1])\n",
    "        x_mean=np.append(x_mean,x_mean_.reshape(1,-1),axis=0)\n",
    "        x_covar_=np.expand_dims(x_covar_,axis=0)\n",
    "        x_covar=np.append(x_covar,x_covar_,axis=0)\n",
    "    #6) Std series\n",
    "    x_std=(x_covar[:,0,0]**.5).reshape(-1,1) \n",
    "    for i in range(1,x_covar.shape[1]): \n",
    "        x_std_=x_covar[:,i,i]**.5 \n",
    "        x_std=np.append(x_std,x_std_.reshape(-1,1),axis=1) \n",
    "    return x_mean,x_std,x_covar"
   ]
  },
  {
   "cell_type": "code",
   "execution_count": 43,
   "metadata": {
    "scrolled": false
   },
   "outputs": [
    {
     "name": "stderr",
     "output_type": "stream",
     "text": [
      "/anaconda3/lib/python3.6/site-packages/pykalman/utils.py:111: DeprecationWarning: inspect.getargspec() is deprecated, use inspect.signature() or inspect.getfullargspec()\n",
      "  args = inspect.getargspec(obj.__init__)[0]\n"
     ]
    }
   ],
   "source": [
    "x_mean,x_std,x_covar=fitKCA(df.date.values,df.y.values,1)"
   ]
  },
  {
   "cell_type": "code",
   "execution_count": null,
   "metadata": {},
   "outputs": [],
   "source": [
    "fitKCA(df.date.values,df.y.values,1)"
   ]
  },
  {
   "cell_type": "code",
   "execution_count": 46,
   "metadata": {},
   "outputs": [
    {
     "name": "stdout",
     "output_type": "stream",
     "text": [
      "[[ 4.60662362e+02  7.17807327e-04  9.23025064e-08]\n",
      " [ 8.65989608e+02  4.00016609e-03 -7.87843004e-08]\n",
      " [ 9.17932896e+02 -9.29308697e-04  1.55307040e-08]\n",
      " ...\n",
      " [ 6.46114827e+03 -1.19955055e-03 -3.67570406e-09]\n",
      " [ 6.34399865e+03 -1.36031823e-03  4.01066012e-09]\n",
      " [ 6.24157795e+03 -1.01435521e-03  4.01066004e-09]]\n"
     ]
    }
   ],
   "source": [
    "print(x_mean)"
   ]
  },
  {
   "cell_type": "code",
   "execution_count": null,
   "metadata": {},
   "outputs": [],
   "source": [
    "# Mean Acceleration"
   ]
  },
  {
   "cell_type": "code",
   "execution_count": 56,
   "metadata": {},
   "outputs": [
    {
     "name": "stdout",
     "output_type": "stream",
     "text": [
      "9.23025063881937e-08\n"
     ]
    }
   ],
   "source": [
    "print(x_mean[0,2])"
   ]
  },
  {
   "cell_type": "code",
   "execution_count": null,
   "metadata": {},
   "outputs": [],
   "source": [
    "# Std Acceleration"
   ]
  },
  {
   "cell_type": "code",
   "execution_count": 57,
   "metadata": {},
   "outputs": [
    {
     "name": "stdout",
     "output_type": "stream",
     "text": [
      "2.1977051201104595e-05\n"
     ]
    }
   ],
   "source": [
    "print(x_std[0,2])"
   ]
  },
  {
   "cell_type": "markdown",
   "metadata": {},
   "source": [
    "## Figure 1 (states estimated by KCA)"
   ]
  },
  {
   "cell_type": "code",
   "execution_count": 83,
   "metadata": {
    "scrolled": true
   },
   "outputs": [
    {
     "data": {
      "text/plain": [
       "Text(0.5,1,'KCA estimated mean states')"
      ]
     },
     "execution_count": 83,
     "metadata": {},
     "output_type": "execute_result"
    },
    {
     "data": {
      "image/png": "[encoded data removed]",
      "text/plain": [
       "<Figure size 432x288 with 1 Axes>"
      ]
     },
     "metadata": {},
     "output_type": "display_data"
    }
   ],
   "source": [
    "#measurements\n",
    "#plt.scatter(df,y, df.weightedAverage)\n",
    "#position\n",
    "plt.plot(x_mean[:,0],color='blue') \n",
    "#velocity\n",
    "plt.plot(x_mean[:,1],color='green') \n",
    "#acceleration\n",
    "plt.plot(x_mean[:,2],color='red')\n",
    "plt.title('KCA estimated mean states')"
   ]
  },
  {
   "cell_type": "code",
   "execution_count": 76,
   "metadata": {},
   "outputs": [
    {
     "data": {
      "text/plain": [
       "Text(0.5,1,'Velocity')"
      ]
     },
     "execution_count": 76,
     "metadata": {},
     "output_type": "execute_result"
    },
    {
     "data": {
      "image/png": "[encoded data removed]",
      "text/plain": [
       "<Figure size 432x288 with 1 Axes>"
      ]
     },
     "metadata": {},
     "output_type": "display_data"
    }
   ],
   "source": [
    "#velocity\n",
    "plt.plot(x_mean[:,1],color='green') \n",
    "plt.title('Velocity')"
   ]
  },
  {
   "cell_type": "code",
   "execution_count": 75,
   "metadata": {},
   "outputs": [
    {
     "data": {
      "text/plain": [
       "Text(0.5,1,'Acceleration')"
      ]
     },
     "execution_count": 75,
     "metadata": {},
     "output_type": "execute_result"
    },
    {
     "data": {
      "image/png": "[encoded data removed]",
      "text/plain": [
       "<Figure size 432x288 with 1 Axes>"
      ]
     },
     "metadata": {},
     "output_type": "display_data"
    }
   ],
   "source": [
    "#acceleration\n",
    "plt.plot(x_mean[:,2],color='red')\n",
    "plt.title('Acceleration')"
   ]
  },
  {
   "cell_type": "markdown",
   "metadata": {},
   "source": [
    "## Figure 2 (shows that FFT extracts a signal very similar to the first state component extracted by KCA) "
   ]
  }
 ],
 "metadata": {
  "kernelspec": {
   "display_name": "Python 3",
   "language": "python",
   "name": "python3"
  },
  "language_info": {
   "codemirror_mode": {
    "name": "ipython",
    "version": 3
   },
   "file_extension": ".py",
   "mimetype": "text/x-python",
   "name": "python",
   "nbconvert_exporter": "python",
   "pygments_lexer": "ipython3",
   "version": "3.6.5"
  }
 },
 "nbformat": 4,
 "nbformat_minor": 2
}
