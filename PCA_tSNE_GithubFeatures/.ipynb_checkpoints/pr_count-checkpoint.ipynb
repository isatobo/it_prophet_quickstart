{
 "cells": [
  {
   "cell_type": "markdown",
   "metadata": {},
   "source": [
    "2. PCA & t-SNE of Github features, classifying assets both by Marketcap and by Coin Function.\n",
    "Given a dictionary of assets, _assets_, like in Github_analysis.ipynb:\n",
    "For _feature_ in ['pr_count', 'issues_count', 'commit_add_sum', 'commit_del_sum', 'commit_count', 'star_count', 'return_pcnt', 'volatility_pcnt'] *# SEPARATE NOTEBOOK FOR EACH FEATURE*:\n",
    " \n",
    "   a) create a dataframe, _feature_df_, of the values of _feature_ across all assets\n",
    "   b) perform PCA on _feature_df_ and plot for both the 1st 2 principal components and 3 components\n",
    "   c) perform t-SNE on _feature_df_ using 2 components and 3 components and plot each\n",
    "   \n",
    "Instead of the labels being the digit number like in the medium example, create labels based on Crypto100_labels.png."
   ]
  },
  {
   "cell_type": "markdown",
   "metadata": {},
   "source": [
    "Purpose: PCA and t-SNE are dimensionality reduction techniques, which help us understand how to visualize high-dimensional datasets."
   ]
  },
  {
   "cell_type": "code",
   "execution_count": 4,
   "metadata": {},
   "outputs": [],
   "source": [
    "import pandas as pd\n",
    "import numpy as np\n",
    "import matplotlib.pyplot as plt\n",
    "%matplotlib inline\n",
    "import glob"
   ]
  },
  {
   "cell_type": "markdown",
   "metadata": {},
   "source": [
    "## Create a dataframe, _feature_df_, of the values of _feature_ across all assets"
   ]
  },
  {
   "cell_type": "code",
   "execution_count": 5,
   "metadata": {},
   "outputs": [],
   "source": [
    "_feature_ = 'pr_count'"
   ]
  },
  {
   "cell_type": "code",
   "execution_count": 11,
   "metadata": {},
   "outputs": [],
   "source": [
    "path = 'github_data' \n",
    "allFiles = glob.glob(path + \"/*.csv\")\n",
    "_feature_df_ = pd.DataFrame()\n",
    "list_ = []\n",
    "for file_ in allFiles:\n",
    "    df = pd.read_csv(file_,index_col=None, header=0,usecols=['symbol',_feature_])\n",
    "    list_.append(df)\n",
    "_feature_df_ = pd.concat(list_)"
   ]
  },
  {
   "cell_type": "code",
   "execution_count": 12,
   "metadata": {},
   "outputs": [
    {
     "name": "stdout",
     "output_type": "stream",
     "text": [
      "    symbol  pr_count\n",
      "0      ADA         7\n",
      "1      ADA         4\n",
      "2      ADA         5\n",
      "3      ADA        11\n",
      "4      ADA         7\n",
      "5      ADA         9\n",
      "6      ADA         0\n",
      "7      ADA         0\n",
      "8      ADA         6\n",
      "9      ADA         6\n",
      "10     ADA         6\n",
      "11     ADA         3\n",
      "12     ADA         8\n",
      "13     ADA         1\n",
      "14     ADA         3\n",
      "15     ADA         5\n",
      "16     ADA         7\n",
      "17     ADA         4\n",
      "18     ADA         8\n",
      "19     ADA         3\n",
      "20     ADA         3\n",
      "21     ADA         6\n",
      "22     ADA         7\n",
      "23     ADA         2\n",
      "24     ADA         3\n",
      "25     ADA         8\n",
      "26     ADA         3\n",
      "27     ADA         5\n",
      "28     ADA         4\n",
      "29     ADA         4\n",
      "..     ...       ...\n",
      "151    ZRX         0\n",
      "152    ZRX         1\n",
      "153    ZRX         3\n",
      "154    ZRX         0\n",
      "155    ZRX         3\n",
      "156    ZRX         3\n",
      "157    ZRX         0\n",
      "158    ZRX         0\n",
      "159    ZRX         2\n",
      "160    ZRX         4\n",
      "161    ZRX         2\n",
      "162    ZRX         0\n",
      "163    ZRX         1\n",
      "164    ZRX         0\n",
      "165    ZRX         0\n",
      "166    ZRX         0\n",
      "167    ZRX         5\n",
      "168    ZRX         3\n",
      "169    ZRX         4\n",
      "170    ZRX         3\n",
      "171    ZRX         1\n",
      "172    ZRX         1\n",
      "173    ZRX         4\n",
      "174    ZRX         4\n",
      "175    ZRX         6\n",
      "176    ZRX         2\n",
      "177    ZRX         8\n",
      "178    ZRX         0\n",
      "179    ZRX         0\n",
      "180    ZRX         1\n",
      "\n",
      "[8950 rows x 2 columns]\n"
     ]
    }
   ],
   "source": [
    "print(_feature_df_)\n",
    "#_feature_df_.head()"
   ]
  },
  {
   "cell_type": "markdown",
   "metadata": {},
   "source": [
    "## Perform PCA on _feature_df_ and plot for both the 1st 2 principal components and 3 components"
   ]
  }
 ],
 "metadata": {
  "kernelspec": {
   "display_name": "Python 3",
   "language": "python",
   "name": "python3"
  },
  "language_info": {
   "codemirror_mode": {
    "name": "ipython",
    "version": 3
   },
   "file_extension": ".py",
   "mimetype": "text/x-python",
   "name": "python",
   "nbconvert_exporter": "python",
   "pygments_lexer": "ipython3",
   "version": "3.6.5"
  }
 },
 "nbformat": 4,
 "nbformat_minor": 2
}
