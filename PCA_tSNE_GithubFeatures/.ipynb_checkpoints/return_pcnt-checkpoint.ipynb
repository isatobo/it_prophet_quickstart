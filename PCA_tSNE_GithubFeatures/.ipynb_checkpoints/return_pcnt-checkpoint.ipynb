{
 "cells": [
  {
   "cell_type": "code",
   "execution_count": 5,
   "metadata": {},
   "outputs": [],
   "source": [
    "import pandas as pd\n",
    "import numpy as np\n",
    "import matplotlib.pyplot as plt\n",
    "%matplotlib inline\n",
    "import glob\n",
    "import os\n",
    "import pathlib\n",
    "from sklearn.decomposition import PCA\n"
   ]
  },
  {
   "cell_type": "code",
   "execution_count": 8,
   "metadata": {},
   "outputs": [],
   "source": [
    "feature = 'return_pcnt'\n",
    "feature_list = ['symbol','pr_count','issues_count','commit_add_sum','commit_del_sum','commit_count',\n",
    "                'star_count','close','high','low','open','usd_market_cap','usd_volume']\n",
    "coins = ['BTC', 'BCH', 'BCD', 'BTG', 'DASH', 'DCR', 'DOGE', 'ETN', 'LTC', 'PIVX', 'XLM', 'XMR', \n",
    "                'XRB', 'XRP', 'ZEC','ADA', 'ARK', 'BTS', 'DGB', 'DRGN', 'EOS', 'FCT', 'GNT', 'LSK', \n",
    "                'NEO', 'OMG', 'QTUM', 'REP', 'RHOC', 'SNT', 'STEEM', 'STRAT', 'WAVES','ZRX','ETH','SC','BCN',\n",
    "               'XVG','ZCL']\n",
    "labels = ['payment','utility','payment_utility','asset_utility','unknown']"
   ]
  },
  {
   "cell_type": "code",
   "execution_count": 9,
   "metadata": {},
   "outputs": [
    {
     "ename": "ValueError",
     "evalue": "'return_pcnt' is not in list",
     "output_type": "error",
     "traceback": [
      "\u001b[0;31m---------------------------------------------------------------------------\u001b[0m",
      "\u001b[0;31mValueError\u001b[0m                                Traceback (most recent call last)",
      "\u001b[0;32m<ipython-input-9-fa2bf62ad3e2>\u001b[0m in \u001b[0;36m<module>\u001b[0;34m()\u001b[0m\n\u001b[1;32m      7\u001b[0m     \u001b[0;31m#name=('{}_'+feature).format(symbol)\u001b[0m\u001b[0;34m\u001b[0m\u001b[0;34m\u001b[0m\u001b[0m\n\u001b[1;32m      8\u001b[0m     sdf = pd.read_csv(path,\n\u001b[0;32m----> 9\u001b[0;31m                           \u001b[0musecols\u001b[0m\u001b[0;34m=\u001b[0m\u001b[0;34m[\u001b[0m\u001b[0mfeature_list\u001b[0m\u001b[0;34m.\u001b[0m\u001b[0mindex\u001b[0m\u001b[0;34m(\u001b[0m\u001b[0mfeature\u001b[0m\u001b[0;34m)\u001b[0m\u001b[0;34m]\u001b[0m\u001b[0;34m,\u001b[0m\u001b[0;34m\u001b[0m\u001b[0m\n\u001b[0m\u001b[1;32m     10\u001b[0m                           \u001b[0mheader\u001b[0m\u001b[0;34m=\u001b[0m\u001b[0;36m0\u001b[0m\u001b[0;34m,\u001b[0m\u001b[0;34m\u001b[0m\u001b[0m\n\u001b[1;32m     11\u001b[0m                           \u001b[0;31m#names=[('{}_'+feature).format(symbol)])\u001b[0m\u001b[0;34m\u001b[0m\u001b[0;34m\u001b[0m\u001b[0m\n",
      "\u001b[0;31mValueError\u001b[0m: 'return_pcnt' is not in list"
     ]
    }
   ],
   "source": [
    "dfs = []\n",
    "hist_symbol = []\n",
    "feat_cols = []\n",
    "for path in pathlib.Path(\"github_data\").iterdir():\n",
    "    filename = path.name\n",
    "    symbol = filename.split('.')[0]\n",
    "    #name=('{}_'+feature).format(symbol)\n",
    "    sdf = pd.read_csv(path,\n",
    "                          usecols=[feature_list.index(feature)],\n",
    "                          header=0,\n",
    "                          #names=[('{}_'+feature).format(symbol)])\n",
    "                          names=[symbol])\n",
    "    #feat_cols.append(name)\n",
    "    feat_cols.append(symbol)\n",
    "    dfs.append(sdf)\n",
    "    hist_symbol.append(symbol)\n",
    "hist_symbol = set(hist_symbol)"
   ]
  },
  {
   "cell_type": "code",
   "execution_count": 7,
   "metadata": {},
   "outputs": [
    {
     "ename": "NameError",
     "evalue": "name 'dfs' is not defined",
     "output_type": "error",
     "traceback": [
      "\u001b[0;31m---------------------------------------------------------------------------\u001b[0m",
      "\u001b[0;31mNameError\u001b[0m                                 Traceback (most recent call last)",
      "\u001b[0;32m<ipython-input-7-bf68ffca8b0c>\u001b[0m in \u001b[0;36m<module>\u001b[0;34m()\u001b[0m\n\u001b[0;32m----> 1\u001b[0;31m \u001b[0;32mfor\u001b[0m \u001b[0mdf\u001b[0m \u001b[0;32min\u001b[0m \u001b[0mdfs\u001b[0m\u001b[0;34m:\u001b[0m\u001b[0;34m\u001b[0m\u001b[0m\n\u001b[0m\u001b[1;32m      2\u001b[0m     \u001b[0msymbol\u001b[0m \u001b[0;34m=\u001b[0m \u001b[0mdf\u001b[0m\u001b[0;34m.\u001b[0m\u001b[0mcolumns\u001b[0m\u001b[0;34m.\u001b[0m\u001b[0mvalues\u001b[0m\u001b[0;34m[\u001b[0m\u001b[0;36m0\u001b[0m\u001b[0;34m]\u001b[0m\u001b[0;34m.\u001b[0m\u001b[0msplit\u001b[0m\u001b[0;34m(\u001b[0m\u001b[0;34m\"_\"\u001b[0m\u001b[0;34m,\u001b[0m\u001b[0;36m1\u001b[0m\u001b[0;34m)\u001b[0m\u001b[0;34m[\u001b[0m\u001b[0;36m0\u001b[0m\u001b[0;34m]\u001b[0m\u001b[0;34m\u001b[0m\u001b[0m\n\u001b[1;32m      3\u001b[0m     \u001b[0mdf\u001b[0m\u001b[0;34m[\u001b[0m\u001b[0msymbol\u001b[0m\u001b[0;34m+\u001b[0m\u001b[0;34m'_return_pcnt'\u001b[0m\u001b[0;34m]\u001b[0m \u001b[0;34m=\u001b[0m \u001b[0;34m(\u001b[0m\u001b[0mdf\u001b[0m\u001b[0;34m[\u001b[0m\u001b[0msymbol\u001b[0m\u001b[0;34m+\u001b[0m\u001b[0;34m\"_close\"\u001b[0m\u001b[0;34m]\u001b[0m \u001b[0;34m-\u001b[0m \u001b[0mdf\u001b[0m\u001b[0;34m[\u001b[0m\u001b[0msymbol\u001b[0m\u001b[0;34m+\u001b[0m\u001b[0;34m\"_open\"\u001b[0m\u001b[0;34m]\u001b[0m\u001b[0;34m)\u001b[0m \u001b[0;34m/\u001b[0m \u001b[0mdf\u001b[0m\u001b[0;34m[\u001b[0m\u001b[0msymbol\u001b[0m\u001b[0;34m+\u001b[0m\u001b[0;34m\"_close\"\u001b[0m\u001b[0;34m]\u001b[0m\u001b[0;34m\u001b[0m\u001b[0m\n\u001b[1;32m      4\u001b[0m     \u001b[0mdf\u001b[0m\u001b[0;34m[\u001b[0m\u001b[0msymbol\u001b[0m\u001b[0;34m+\u001b[0m\u001b[0;34m'_volatility_pcnt'\u001b[0m\u001b[0;34m]\u001b[0m \u001b[0;34m=\u001b[0m \u001b[0;34m(\u001b[0m\u001b[0mdf\u001b[0m\u001b[0;34m[\u001b[0m\u001b[0msymbol\u001b[0m\u001b[0;34m+\u001b[0m\u001b[0;34m\"_high\"\u001b[0m\u001b[0;34m]\u001b[0m \u001b[0;34m-\u001b[0m \u001b[0mdf\u001b[0m\u001b[0;34m[\u001b[0m\u001b[0msymbol\u001b[0m\u001b[0;34m+\u001b[0m\u001b[0;34m\"_low\"\u001b[0m\u001b[0;34m]\u001b[0m\u001b[0;34m)\u001b[0m \u001b[0;34m/\u001b[0m \u001b[0;34m(\u001b[0m\u001b[0;34m(\u001b[0m\u001b[0mdf\u001b[0m\u001b[0;34m[\u001b[0m\u001b[0msymbol\u001b[0m\u001b[0;34m+\u001b[0m\u001b[0;34m\"_high\"\u001b[0m\u001b[0;34m]\u001b[0m \u001b[0;34m+\u001b[0m \u001b[0mdf\u001b[0m\u001b[0;34m[\u001b[0m\u001b[0msymbol\u001b[0m\u001b[0;34m+\u001b[0m\u001b[0;34m\"_low\"\u001b[0m\u001b[0;34m]\u001b[0m\u001b[0;34m)\u001b[0m \u001b[0;34m/\u001b[0m \u001b[0;36m2\u001b[0m\u001b[0;34m)\u001b[0m\u001b[0;34m\u001b[0m\u001b[0m\n",
      "\u001b[0;31mNameError\u001b[0m: name 'dfs' is not defined"
     ]
    }
   ],
   "source": [
    "for df in dfs:\n",
    "    symbol = df.columns.values[0].split(\"_\",1)[0]\n",
    "    df[symbol+'_return_pcnt'] = (df[symbol+\"_close\"] - df[symbol+\"_open\"]) / df[symbol+\"_close\"]\n",
    "    df[symbol+'_volatility_pcnt'] = (df[symbol+\"_high\"] - df[symbol+\"_low\"]) / ((df[symbol+\"_high\"] + df[symbol+\"_low\"]) / 2)"
   ]
  },
  {
   "cell_type": "code",
   "execution_count": null,
   "metadata": {
    "scrolled": false
   },
   "outputs": [],
   "source": [
    "feature_df = pd.concat(dfs, axis=1)\n",
    "feature_df.describe()"
   ]
  },
  {
   "cell_type": "code",
   "execution_count": null,
   "metadata": {},
   "outputs": [],
   "source": [
    "feature_df = feature_df.fillna(0)"
   ]
  },
  {
   "cell_type": "markdown",
   "metadata": {},
   "source": [
    "## Perform PCA on _feature_df_  for both the first 2 principal components and 3 components"
   ]
  },
  {
   "cell_type": "code",
   "execution_count": null,
   "metadata": {},
   "outputs": [],
   "source": [
    "pca = PCA(n_components=3)\n",
    "pca_result = pca.fit_transform(feature_df[feat_cols].values)\n",
    "\n",
    "feature_df['pca-one'] = pca_result[:,0]\n",
    "feature_df['pca-two'] = pca_result[:,1] \n",
    "feature_df['pca-three'] = pca_result[:,2]\n",
    "\n",
    "print('Explained variation per principal component: {}'.format(pca.explained_variance_ratio_))"
   ]
  },
  {
   "cell_type": "markdown",
   "metadata": {},
   "source": [
    "## t-SNE on 2 and 3 components"
   ]
  },
  {
   "cell_type": "code",
   "execution_count": null,
   "metadata": {},
   "outputs": [],
   "source": [
    "import time\n",
    "from sklearn.manifold import TSNE\n",
    "\n",
    "time_start = time.time()\n",
    "tsne = TSNE(n_components=3, verbose=1, perplexity=40, n_iter=300)\n",
    "tsne_results = tsne.fit_transform(feature_df[feat_cols].values)\n",
    "\n",
    "print ('t-SNE done! Time elapsed: {} seconds'.format(time.time()-time_start))"
   ]
  },
  {
   "cell_type": "markdown",
   "metadata": {},
   "source": [
    "## Map symbols to coin function labels before plotting"
   ]
  },
  {
   "cell_type": "code",
   "execution_count": null,
   "metadata": {},
   "outputs": [],
   "source": [
    "feature_df.rename(columns={'ADA':'utility','BTC':'payment', 'BCH':'payment', 'BCD':'payment', 'BTG':'payment', 'DASH':'payment', 'DCR':'payment', \n",
    "    'DOGE':'payment', 'ETN':'payment', 'LTC':'payment', 'PIVX':'payment', 'XLM':'payment', 'XMR':'payment', \n",
    "    'XRB':'payment', 'XRP':'payment', 'ZEC':'payment','ARK':'utility', 'BTS':'utility', \n",
    "    'DGB':'utility', 'DRGN':'utility', 'EOS':'utility', 'FCT':'utility', 'GNT':'utility', 'LSK':'utility', \n",
    "    'NEO':'utility', 'OMG':'utility', 'QTUM':'utility', 'REP':'utility', 'RHOC':'utility', 'SNT':'utility', \n",
    "    'STEEM':'utility', 'STRAT':'utility', 'WAVES':'utility','ZRX':'utility','ETH':'payment_utility',\n",
    "    'SC':'asset_utility','BCN':'unknown','XVG':'unknown', 'ZCL':'unknown'},\n",
    "                 inplace=True)\n",
    "#print(feature_df)"
   ]
  },
  {
   "cell_type": "code",
   "execution_count": null,
   "metadata": {},
   "outputs": [],
   "source": [
    "#print(feature_df.columns.values)\n",
    "#for i in range(0,38):\n",
    "    #print(feature_df.columns[i])"
   ]
  },
  {
   "cell_type": "markdown",
   "metadata": {},
   "source": [
    "## Plot PCA for both the 1st 2 principal components and 3 components"
   ]
  },
  {
   "cell_type": "code",
   "execution_count": null,
   "metadata": {},
   "outputs": [],
   "source": [
    "labels = ['payment','utility','payment_utility','asset_utility','unknown']\n",
    "# label-to-color dictionary\n",
    "label_color_dict = {'utility':'red','payment':'green','payment_utility':'blue','asset_utility':'magenta','unknown':'yellow'}\n",
    "# Color vector creation\n",
    "cvec = [label_color_dict[label] for label in labels]"
   ]
  },
  {
   "cell_type": "code",
   "execution_count": null,
   "metadata": {},
   "outputs": [],
   "source": [
    "# Create the scatter plot\n",
    "plt.figure(figsize=(8,8))\n",
    "plt.scatter(pca_result[:,0], pca_result[:,1],\n",
    "            c=cvec, edgecolor='', alpha=0.5)\n",
    "plt.xlabel(\"pca-one\")\n",
    "plt.ylabel(\"pca-two\")\n",
    "plt.title(\"First and Second Principal Components Colored by Coin Function\")\n",
    "#plt.legend(loc='best')\n",
    "print(label_color_dict)\n",
    "   \n",
    "plt.show()"
   ]
  },
  {
   "cell_type": "markdown",
   "metadata": {},
   "source": [
    "3 Components"
   ]
  },
  {
   "cell_type": "code",
   "execution_count": null,
   "metadata": {},
   "outputs": [],
   "source": [
    "#from mpl_toolkits.mplot3d import Axes3D \n",
    "#from matplotlib import pyplot\n",
    "\n",
    "#fig = pyplot.figure(figsize=(7,7))\n",
    "#ax = Axes3D(fig)\n",
    "\n",
    "#ax.scatter(pca_result[:,0], pca_result[:,1], pca_result[:,2],c=cvec, edgecolor='', alpha=0.5)\n",
    "#ax.scatter(pca_result[:,0], pca_result[:,1], pca_result[:,2])\n",
    "#ax.set_xlabel(\"pca-one\")\n",
    "#ax.set_ylabel(\"pca-two\")\n",
    "#ax.set_zlabel(\"pca-three\")\n",
    "#plt.title(\"First Three Principal Components Colored by Coin Function\")\n",
    "\n",
    "#pyplot.show()"
   ]
  },
  {
   "cell_type": "code",
   "execution_count": null,
   "metadata": {},
   "outputs": [],
   "source": [
    "from mpl_toolkits.mplot3d import Axes3D \n",
    "from matplotlib import pyplot\n",
    "\n",
    "fig = pyplot.figure(figsize=(7,7))\n",
    "ax = Axes3D(fig)\n",
    "for label, color in label_color_dict.items():\n",
    "    ax.scatter(pca_result[:,0], pca_result[:,1], pca_result[:,2], \n",
    "            color=color, label=label)\n",
    "\n",
    "ax.legend(loc='best')\n",
    "ax.set_xlabel(\"pca-one\")\n",
    "ax.set_ylabel(\"pca-two\")\n",
    "ax.set_zlabel(\"pca-three\")\n",
    "plt.title(\"First Three Principal Components Colored by Coin Function\")"
   ]
  },
  {
   "cell_type": "markdown",
   "metadata": {},
   "source": [
    "## Plot t-SNE "
   ]
  },
  {
   "cell_type": "markdown",
   "metadata": {},
   "source": [
    "Visualise the two dimensions by creating a scatter plot and coloring each sample by its respective label"
   ]
  },
  {
   "cell_type": "code",
   "execution_count": null,
   "metadata": {},
   "outputs": [],
   "source": [
    "fig, ax = plt.subplots(1,1)\n",
    "for label, color in label_color_dict.items():\n",
    "    ax.scatter(tsne_results[:,0], tsne_results[:,1],  \n",
    "            color=color, label=label)\n",
    "\n",
    "ax.legend(loc='best')\n",
    "plt.xlabel(\"x-tsne\")\n",
    "plt.ylabel(\"y-tsne\")\n",
    "plt.title(\"tSNE dimensions colored by coin function\")"
   ]
  },
  {
   "cell_type": "markdown",
   "metadata": {},
   "source": [
    "3 Components"
   ]
  },
  {
   "cell_type": "code",
   "execution_count": null,
   "metadata": {},
   "outputs": [],
   "source": [
    "#fig, ax = plt.subplots(1,1)\n",
    "fig = pyplot.figure(figsize=(7,7))\n",
    "ax = Axes3D(fig)\n",
    "for label, color in label_color_dict.items():\n",
    "    ax.scatter(tsne_results[:,0], tsne_results[:,1], tsne_results[:,2], \n",
    "            color=color, label=label)\n",
    "\n",
    "ax.legend(loc='best')\n",
    "plt.xlabel(\"x-tsne\")\n",
    "plt.ylabel(\"y-tsne\")\n",
    "ax.set_zlabel(\"z-tsne\")\n",
    "plt.title(\"tSNE dimensions colored by coin function\")"
   ]
  }
 ],
 "metadata": {
  "kernelspec": {
   "display_name": "Python 3",
   "language": "python",
   "name": "python3"
  },
  "language_info": {
   "codemirror_mode": {
    "name": "ipython",
    "version": 3
   },
   "file_extension": ".py",
   "mimetype": "text/x-python",
   "name": "python",
   "nbconvert_exporter": "python",
   "pygments_lexer": "ipython3",
   "version": "3.6.5"
  }
 },
 "nbformat": 4,
 "nbformat_minor": 2
}
