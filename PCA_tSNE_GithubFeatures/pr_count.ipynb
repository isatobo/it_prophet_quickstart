{
 "cells": [
  {
   "cell_type": "markdown",
   "metadata": {},
   "source": [
    "2. PCA & t-SNE of Github features, classifying assets both by Marketcap and by Coin Function.\n",
    "Given a dictionary of assets, _assets_, like in Github_analysis.ipynb:\n",
    "For _feature_ in ['pr_count', 'issues_count', 'commit_add_sum', 'commit_del_sum', 'commit_count', 'star_count', 'return_pcnt', 'volatility_pcnt'] *# SEPARATE NOTEBOOK FOR EACH FEATURE*:\n",
    " \n",
    "   a) create a dataframe, _feature_df_, of the values of _feature_ across all assets\n",
    "   b) perform PCA on _feature_df_ and plot for both the 1st 2 principal components and 3 components\n",
    "   c) perform t-SNE on _feature_df_ using 2 components and 3 components and plot each\n",
    "   \n",
    "Instead of the labels being the digit number like in the medium example, create labels based on Crypto100_labels.png."
   ]
  },
  {
   "cell_type": "markdown",
   "metadata": {},
   "source": [
    "Purpose: PCA and t-SNE are dimensionality reduction techniques, which help us understand how to visualize high-dimensional datasets."
   ]
  },
  {
   "cell_type": "code",
   "execution_count": 4,
   "metadata": {},
   "outputs": [],
   "source": [
    "import pandas as pd\n",
    "import numpy as np\n",
    "import matplotlib.pyplot as plt\n",
    "%matplotlib inline\n",
    "import glob"
   ]
  },
  {
   "cell_type": "markdown",
   "metadata": {},
   "source": [
    "## Create a dataframe, _feature_df_, of the values of _feature_ across all assets"
   ]
  },
  {
   "cell_type": "code",
   "execution_count": 28,
   "metadata": {},
   "outputs": [],
   "source": [
    "_feature_ = 'pr_count'"
   ]
  },
  {
   "cell_type": "code",
   "execution_count": 108,
   "metadata": {},
   "outputs": [],
   "source": [
    "path = 'github_data' \n",
    "allFiles = glob.glob(path + \"/*.csv\")\n",
    "_feature_df_ = pd.DataFrame()\n",
    "list_ = []\n",
    "for file_ in allFiles:\n",
    "    df = pd.read_csv(file_,index_col=None, header=0,usecols=['symbol',_feature_,'usd_market_cap'])\n",
    "    list_.append(df)\n",
    "_feature_df_ = pd.concat(list_, ignore_index=True)"
   ]
  },
  {
   "cell_type": "code",
   "execution_count": 128,
   "metadata": {},
   "outputs": [],
   "source": [
    "#arrays with coin functions (our labels)\n",
    "payment = ['BTC', 'BCH', 'BCD', 'BTG', 'DASH', 'DCR', 'DOGE', 'ETN', 'LTC', 'PIVX', 'XLM', 'XMR', 'XRB', 'XRP', 'ZEC']\n",
    "utility = ['ADA', 'ARK', 'BTS', 'DGB', 'DRGN', 'EOS', 'FCT', 'GNT', 'LSK', 'NEO', 'OMG', 'QTUM', 'REP', 'RHOC', 'SNT', 'STEEM', 'STRAT', 'WAVES','ZRX']\n",
    "payment_utility = ['ETH']\n",
    "asset_utility = ['SC']\n",
    "unknown = ['BCN', 'XVG', 'ZCL']"
   ]
  },
  {
   "cell_type": "code",
   "execution_count": 129,
   "metadata": {},
   "outputs": [],
   "source": [
    "for i in range(0, _feature_df_.shape[0]):\n",
    "\n",
    "    if _feature_df_.iloc[i,0] in payment:\n",
    "        _feature_df_.loc[i,'label'] = 'payment'\n",
    "    elif _feature_df_.iloc[i,0] in utility:\n",
    "        _feature_df_.loc[i,'label'] = 'utility'\n",
    "    elif _feature_df_.iloc[i,0] in payment_utility:\n",
    "        _feature_df_.loc[i,'label'] = 'payment_utility'\n",
    "    elif _feature_df_.iloc[i,0] in asset_utility:\n",
    "        _feature_df_.loc[i,'label'] = 'asset_utility'\n",
    "    else:\n",
    "        _feature_df_.loc[i,'label'] = 'unknown'"
   ]
  },
  {
   "cell_type": "code",
   "execution_count": 132,
   "metadata": {},
   "outputs": [
    {
     "name": "stdout",
     "output_type": "stream",
     "text": [
      "Size of the dataframe: (8950, 4)\n"
     ]
    }
   ],
   "source": [
    "print('Size of the dataframe: {}'.format(_feature_df_.shape))"
   ]
  },
  {
   "cell_type": "code",
   "execution_count": 130,
   "metadata": {},
   "outputs": [
    {
     "name": "stdout",
     "output_type": "stream",
     "text": [
      "     symbol  pr_count usd_market_cap    label\n",
      "0       ADA         7              -  utility\n",
      "1       ADA         4              -  utility\n",
      "2       ADA         5      624651000  utility\n",
      "3       ADA        11      540946000  utility\n",
      "4       ADA         7      569134000  utility\n",
      "5       ADA         9      553774000  utility\n",
      "6       ADA         0      477417000  utility\n",
      "7       ADA         0      542638000  utility\n",
      "8       ADA         6      527469000  utility\n",
      "9       ADA         6      573302000  utility\n",
      "10      ADA         6      556914000  utility\n",
      "11      ADA         3      584358000  utility\n",
      "12      ADA         8      675684000  utility\n",
      "13      ADA         1      878314000  utility\n",
      "14      ADA         3      852317000  utility\n",
      "15      ADA         5      776227000  utility\n",
      "16      ADA         7      750659000  utility\n",
      "17      ADA         4      705718000  utility\n",
      "18      ADA         8      692370000  utility\n",
      "19      ADA         3      699574000  utility\n",
      "20      ADA         3      798697000  utility\n",
      "21      ADA         6      740608000  utility\n",
      "22      ADA         7      717768000  utility\n",
      "23      ADA         2      656966000  utility\n",
      "24      ADA         3      701019000  utility\n",
      "25      ADA         8      710649000  utility\n",
      "26      ADA         3      703611000  utility\n",
      "27      ADA         5      682882000  utility\n",
      "28      ADA         4      669716000  utility\n",
      "29      ADA         4      734193000  utility\n",
      "...     ...       ...            ...      ...\n",
      "8920    ZRX         0     1167210000  utility\n",
      "8921    ZRX         1      976255000  utility\n",
      "8922    ZRX         3      859392000  utility\n",
      "8923    ZRX         0      777744000  utility\n",
      "8924    ZRX         3      760731000  utility\n",
      "8925    ZRX         3      813299000  utility\n",
      "8926    ZRX         0      911823000  utility\n",
      "8927    ZRX         0     1017560000  utility\n",
      "8928    ZRX         2      863083000  utility\n",
      "8929    ZRX         4      835498000  utility\n",
      "8930    ZRX         2      795013000  utility\n",
      "8931    ZRX         0      840475000  utility\n",
      "8932    ZRX         1      814458000  utility\n",
      "8933    ZRX         0     1008110000  utility\n",
      "8934    ZRX         0     1050130000  utility\n",
      "8935    ZRX         0      991505000  utility\n",
      "8936    ZRX         5      935070000  utility\n",
      "8937    ZRX         3      802529000  utility\n",
      "8938    ZRX         4      936047000  utility\n",
      "8939    ZRX         3      807909000  utility\n",
      "8940    ZRX         1      655192000  utility\n",
      "8941    ZRX         1      703996000  utility\n",
      "8942    ZRX         4      579817000  utility\n",
      "8943    ZRX         4      415693000  utility\n",
      "8944    ZRX         6      513163000  utility\n",
      "8945    ZRX         2      501142000  utility\n",
      "8946    ZRX         8      545842000  utility\n",
      "8947    ZRX         0      576535000  utility\n",
      "8948    ZRX         0      555363000  utility\n",
      "8949    ZRX         1      501382000  utility\n",
      "\n",
      "[8950 rows x 4 columns]\n"
     ]
    }
   ],
   "source": [
    "print(_feature_df_)"
   ]
  },
  {
   "cell_type": "markdown",
   "metadata": {},
   "source": [
    "### Perform PCA on _feature_df_ and plot for both the 1st 2 principal components and 3 components\n",
    "It is using the correlation between some dimensions and tries to provide a minimum number of variables that keeps the maximum amount of variation or information about how the original data is distributed. "
   ]
  },
  {
   "cell_type": "code",
   "execution_count": 147,
   "metadata": {},
   "outputs": [
    {
     "ename": "ValueError",
     "evalue": "n_components=2 must be between 0 and n_features=1 with svd_solver='full'",
     "output_type": "error",
     "traceback": [
      "\u001b[0;31m---------------------------------------------------------------------------\u001b[0m",
      "\u001b[0;31mValueError\u001b[0m                                Traceback (most recent call last)",
      "\u001b[0;32m<ipython-input-147-4a897283b309>\u001b[0m in \u001b[0;36m<module>\u001b[0;34m()\u001b[0m\n\u001b[1;32m      2\u001b[0m \u001b[0;34m\u001b[0m\u001b[0m\n\u001b[1;32m      3\u001b[0m \u001b[0mpca\u001b[0m \u001b[0;34m=\u001b[0m \u001b[0mPCA\u001b[0m\u001b[0;34m(\u001b[0m\u001b[0mn_components\u001b[0m\u001b[0;34m=\u001b[0m\u001b[0;36m2\u001b[0m\u001b[0;34m)\u001b[0m\u001b[0;34m\u001b[0m\u001b[0m\n\u001b[0;32m----> 4\u001b[0;31m \u001b[0mpca_result\u001b[0m \u001b[0;34m=\u001b[0m \u001b[0mpca\u001b[0m\u001b[0;34m.\u001b[0m\u001b[0mfit_transform\u001b[0m\u001b[0;34m(\u001b[0m\u001b[0m_feature_df_\u001b[0m\u001b[0;34m[\u001b[0m\u001b[0;34m'pr_count'\u001b[0m\u001b[0;34m]\u001b[0m\u001b[0;34m.\u001b[0m\u001b[0mvalues\u001b[0m\u001b[0;34m.\u001b[0m\u001b[0mreshape\u001b[0m\u001b[0;34m(\u001b[0m\u001b[0;34m-\u001b[0m\u001b[0;36m1\u001b[0m\u001b[0;34m,\u001b[0m\u001b[0;36m1\u001b[0m\u001b[0;34m)\u001b[0m\u001b[0;34m)\u001b[0m\u001b[0;34m\u001b[0m\u001b[0m\n\u001b[0m\u001b[1;32m      5\u001b[0m \u001b[0;34m\u001b[0m\u001b[0m\n\u001b[1;32m      6\u001b[0m \u001b[0mdf\u001b[0m\u001b[0;34m[\u001b[0m\u001b[0;34m'pca-one'\u001b[0m\u001b[0;34m]\u001b[0m \u001b[0;34m=\u001b[0m \u001b[0mpca_result\u001b[0m\u001b[0;34m[\u001b[0m\u001b[0;34m:\u001b[0m\u001b[0;34m,\u001b[0m\u001b[0;36m0\u001b[0m\u001b[0;34m]\u001b[0m\u001b[0;34m\u001b[0m\u001b[0m\n",
      "\u001b[0;32m/anaconda3/lib/python3.6/site-packages/sklearn/decomposition/pca.py\u001b[0m in \u001b[0;36mfit_transform\u001b[0;34m(self, X, y)\u001b[0m\n\u001b[1;32m    346\u001b[0m \u001b[0;34m\u001b[0m\u001b[0m\n\u001b[1;32m    347\u001b[0m         \"\"\"\n\u001b[0;32m--> 348\u001b[0;31m         \u001b[0mU\u001b[0m\u001b[0;34m,\u001b[0m \u001b[0mS\u001b[0m\u001b[0;34m,\u001b[0m \u001b[0mV\u001b[0m \u001b[0;34m=\u001b[0m \u001b[0mself\u001b[0m\u001b[0;34m.\u001b[0m\u001b[0m_fit\u001b[0m\u001b[0;34m(\u001b[0m\u001b[0mX\u001b[0m\u001b[0;34m)\u001b[0m\u001b[0;34m\u001b[0m\u001b[0m\n\u001b[0m\u001b[1;32m    349\u001b[0m         \u001b[0mU\u001b[0m \u001b[0;34m=\u001b[0m \u001b[0mU\u001b[0m\u001b[0;34m[\u001b[0m\u001b[0;34m:\u001b[0m\u001b[0;34m,\u001b[0m \u001b[0;34m:\u001b[0m\u001b[0mself\u001b[0m\u001b[0;34m.\u001b[0m\u001b[0mn_components_\u001b[0m\u001b[0;34m]\u001b[0m\u001b[0;34m\u001b[0m\u001b[0m\n\u001b[1;32m    350\u001b[0m \u001b[0;34m\u001b[0m\u001b[0m\n",
      "\u001b[0;32m/anaconda3/lib/python3.6/site-packages/sklearn/decomposition/pca.py\u001b[0m in \u001b[0;36m_fit\u001b[0;34m(self, X)\u001b[0m\n\u001b[1;32m    390\u001b[0m         \u001b[0;31m# Call different fits for either full or truncated SVD\u001b[0m\u001b[0;34m\u001b[0m\u001b[0;34m\u001b[0m\u001b[0m\n\u001b[1;32m    391\u001b[0m         \u001b[0;32mif\u001b[0m \u001b[0msvd_solver\u001b[0m \u001b[0;34m==\u001b[0m \u001b[0;34m'full'\u001b[0m\u001b[0;34m:\u001b[0m\u001b[0;34m\u001b[0m\u001b[0m\n\u001b[0;32m--> 392\u001b[0;31m             \u001b[0;32mreturn\u001b[0m \u001b[0mself\u001b[0m\u001b[0;34m.\u001b[0m\u001b[0m_fit_full\u001b[0m\u001b[0;34m(\u001b[0m\u001b[0mX\u001b[0m\u001b[0;34m,\u001b[0m \u001b[0mn_components\u001b[0m\u001b[0;34m)\u001b[0m\u001b[0;34m\u001b[0m\u001b[0m\n\u001b[0m\u001b[1;32m    393\u001b[0m         \u001b[0;32melif\u001b[0m \u001b[0msvd_solver\u001b[0m \u001b[0;32min\u001b[0m \u001b[0;34m[\u001b[0m\u001b[0;34m'arpack'\u001b[0m\u001b[0;34m,\u001b[0m \u001b[0;34m'randomized'\u001b[0m\u001b[0;34m]\u001b[0m\u001b[0;34m:\u001b[0m\u001b[0;34m\u001b[0m\u001b[0m\n\u001b[1;32m    394\u001b[0m             \u001b[0;32mreturn\u001b[0m \u001b[0mself\u001b[0m\u001b[0;34m.\u001b[0m\u001b[0m_fit_truncated\u001b[0m\u001b[0;34m(\u001b[0m\u001b[0mX\u001b[0m\u001b[0;34m,\u001b[0m \u001b[0mn_components\u001b[0m\u001b[0;34m,\u001b[0m \u001b[0msvd_solver\u001b[0m\u001b[0;34m)\u001b[0m\u001b[0;34m\u001b[0m\u001b[0m\n",
      "\u001b[0;32m/anaconda3/lib/python3.6/site-packages/sklearn/decomposition/pca.py\u001b[0m in \u001b[0;36m_fit_full\u001b[0;34m(self, X, n_components)\u001b[0m\n\u001b[1;32m    408\u001b[0m             raise ValueError(\"n_components=%r must be between 0 and \"\n\u001b[1;32m    409\u001b[0m                              \u001b[0;34m\"n_features=%r with svd_solver='full'\"\u001b[0m\u001b[0;34m\u001b[0m\u001b[0m\n\u001b[0;32m--> 410\u001b[0;31m                              % (n_components, n_features))\n\u001b[0m\u001b[1;32m    411\u001b[0m \u001b[0;34m\u001b[0m\u001b[0m\n\u001b[1;32m    412\u001b[0m         \u001b[0;31m# Center data\u001b[0m\u001b[0;34m\u001b[0m\u001b[0;34m\u001b[0m\u001b[0m\n",
      "\u001b[0;31mValueError\u001b[0m: n_components=2 must be between 0 and n_features=1 with svd_solver='full'"
     ]
    }
   ],
   "source": [
    "from sklearn.decomposition import PCA\n",
    "\n",
    "pca = PCA(n_components=2)\n",
    "pca_result = pca.fit_transform(_feature_df_['pr_count'].values.reshape(-1,1))\n",
    "\n",
    "df['pca-one'] = pca_result[:,0]\n",
    "df['pca-two'] = pca_result[:,1] \n",
    "#df['pca-three'] = pca_result[:,2]"
   ]
  },
  {
   "cell_type": "code",
   "execution_count": null,
   "metadata": {},
   "outputs": [],
   "source": [
    "print('Explained variation per principal component: {}'.format(pca.explained_variance_ratio_))"
   ]
  },
  {
   "cell_type": "code",
   "execution_count": null,
   "metadata": {},
   "outputs": [],
   "source": []
  },
  {
   "cell_type": "code",
   "execution_count": null,
   "metadata": {},
   "outputs": [],
   "source": []
  },
  {
   "cell_type": "code",
   "execution_count": null,
   "metadata": {},
   "outputs": [],
   "source": []
  },
  {
   "cell_type": "code",
   "execution_count": null,
   "metadata": {},
   "outputs": [],
   "source": []
  }
 ],
 "metadata": {
  "kernelspec": {
   "display_name": "Python 3",
   "language": "python",
   "name": "python3"
  },
  "language_info": {
   "codemirror_mode": {
    "name": "ipython",
    "version": 3
   },
   "file_extension": ".py",
   "mimetype": "text/x-python",
   "name": "python",
   "nbconvert_exporter": "python",
   "pygments_lexer": "ipython3",
   "version": "3.6.5"
  }
 },
 "nbformat": 4,
 "nbformat_minor": 2
}
