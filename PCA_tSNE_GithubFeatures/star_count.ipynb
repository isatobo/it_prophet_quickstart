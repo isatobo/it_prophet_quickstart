{
 "cells": [
  {
   "cell_type": "code",
   "execution_count": 177,
   "metadata": {},
   "outputs": [],
   "source": [
    "import pandas as pd\n",
    "import numpy as np\n",
    "import matplotlib.pyplot as plt\n",
    "%matplotlib inline\n",
    "import glob\n",
    "import os\n",
    "import pathlib\n",
    "from sklearn.decomposition import PCA\n"
   ]
  },
  {
   "cell_type": "code",
   "execution_count": 178,
   "metadata": {},
   "outputs": [],
   "source": [
    "feature = 'star_count'\n",
    "feature_list = ['symbol','pr_count','issues_count','commit_add_sum','commit_del_sum','commit_count',\n",
    "                'star_count','close','high','low','open','usd_market_cap','usd_volume']\n",
    "coins = ['BTC', 'BCH', 'BCD', 'BTG', 'DASH', 'DCR', 'DOGE', 'ETN', 'LTC', 'PIVX', 'XLM', 'XMR', \n",
    "                'XRB', 'XRP', 'ZEC','ADA', 'ARK', 'BTS', 'DGB', 'DRGN', 'EOS', 'FCT', 'GNT', 'LSK', \n",
    "                'NEO', 'OMG', 'QTUM', 'REP', 'RHOC', 'SNT', 'STEEM', 'STRAT', 'WAVES','ZRX','ETH','SC','BCN',\n",
    "               'XVG','ZCL']"
   ]
  },
  {
   "cell_type": "code",
   "execution_count": 179,
   "metadata": {},
   "outputs": [],
   "source": [
    "dfs = []\n",
    "hist_symbol = []\n",
    "feat_cols = []\n",
    "for path in pathlib.Path(\"github_data\").iterdir():\n",
    "    filename = path.name\n",
    "    symbol = filename.split('.')[0]\n",
    "    #name=('{}_'+feature).format(symbol)\n",
    "    sdf = pd.read_csv(path,\n",
    "                          usecols=[feature_list.index(feature)],\n",
    "                          header=0,\n",
    "                          #names=[('{}_'+feature).format(symbol)])\n",
    "                          names=[symbol])\n",
    "    #feat_cols.append(name)\n",
    "    feat_cols.append(symbol)\n",
    "    dfs.append(sdf)\n",
    "    hist_symbol.append(symbol)\n",
    "hist_symbol = set(hist_symbol)\n",
    "\n"
   ]
  },
  {
   "cell_type": "code",
   "execution_count": 180,
   "metadata": {
    "scrolled": false
   },
   "outputs": [
    {
     "data": {
      "text/html": [
       "<div>\n",
       "<style scoped>\n",
       "    .dataframe tbody tr th:only-of-type {\n",
       "        vertical-align: middle;\n",
       "    }\n",
       "\n",
       "    .dataframe tbody tr th {\n",
       "        vertical-align: top;\n",
       "    }\n",
       "\n",
       "    .dataframe thead th {\n",
       "        text-align: right;\n",
       "    }\n",
       "</style>\n",
       "<table border=\"1\" class=\"dataframe\">\n",
       "  <thead>\n",
       "    <tr style=\"text-align: right;\">\n",
       "      <th></th>\n",
       "      <th>ADA</th>\n",
       "      <th>ARK</th>\n",
       "      <th>BCH</th>\n",
       "      <th>BCN</th>\n",
       "      <th>BTC</th>\n",
       "      <th>BTG</th>\n",
       "      <th>BTS</th>\n",
       "      <th>DASH</th>\n",
       "      <th>DCR</th>\n",
       "      <th>DGB</th>\n",
       "      <th>...</th>\n",
       "      <th>STRAT</th>\n",
       "      <th>WAVES</th>\n",
       "      <th>XLM</th>\n",
       "      <th>XMR</th>\n",
       "      <th>XRB</th>\n",
       "      <th>XRP</th>\n",
       "      <th>XVG</th>\n",
       "      <th>ZCL</th>\n",
       "      <th>ZEC</th>\n",
       "      <th>ZRX</th>\n",
       "    </tr>\n",
       "  </thead>\n",
       "  <tbody>\n",
       "    <tr>\n",
       "      <th>count</th>\n",
       "      <td>135.000000</td>\n",
       "      <td>257.000000</td>\n",
       "      <td>205.000000</td>\n",
       "      <td>257.000000</td>\n",
       "      <td>257.000000</td>\n",
       "      <td>257.000000</td>\n",
       "      <td>257.000000</td>\n",
       "      <td>257.000000</td>\n",
       "      <td>257.000000</td>\n",
       "      <td>257.000000</td>\n",
       "      <td>...</td>\n",
       "      <td>257.000000</td>\n",
       "      <td>257.000000</td>\n",
       "      <td>257.000000</td>\n",
       "      <td>257.000000</td>\n",
       "      <td>257.000000</td>\n",
       "      <td>257.000000</td>\n",
       "      <td>257.000000</td>\n",
       "      <td>257.000000</td>\n",
       "      <td>257.000000</td>\n",
       "      <td>181.000000</td>\n",
       "    </tr>\n",
       "    <tr>\n",
       "      <th>mean</th>\n",
       "      <td>12.718519</td>\n",
       "      <td>0.482490</td>\n",
       "      <td>2.326829</td>\n",
       "      <td>1.085603</td>\n",
       "      <td>57.470817</td>\n",
       "      <td>1.941634</td>\n",
       "      <td>1.828794</td>\n",
       "      <td>1.844358</td>\n",
       "      <td>0.797665</td>\n",
       "      <td>0.622568</td>\n",
       "      <td>...</td>\n",
       "      <td>0.603113</td>\n",
       "      <td>1.346304</td>\n",
       "      <td>3.280156</td>\n",
       "      <td>7.272374</td>\n",
       "      <td>6.389105</td>\n",
       "      <td>4.486381</td>\n",
       "      <td>4.731518</td>\n",
       "      <td>0.498054</td>\n",
       "      <td>4.556420</td>\n",
       "      <td>1.795580</td>\n",
       "    </tr>\n",
       "    <tr>\n",
       "      <th>std</th>\n",
       "      <td>11.771235</td>\n",
       "      <td>0.976624</td>\n",
       "      <td>2.744962</td>\n",
       "      <td>1.284092</td>\n",
       "      <td>38.263786</td>\n",
       "      <td>3.888145</td>\n",
       "      <td>1.618336</td>\n",
       "      <td>1.662752</td>\n",
       "      <td>1.095942</td>\n",
       "      <td>1.027720</td>\n",
       "      <td>...</td>\n",
       "      <td>3.344490</td>\n",
       "      <td>1.400584</td>\n",
       "      <td>5.238764</td>\n",
       "      <td>5.317620</td>\n",
       "      <td>14.045280</td>\n",
       "      <td>6.096939</td>\n",
       "      <td>15.044527</td>\n",
       "      <td>1.417316</td>\n",
       "      <td>2.763767</td>\n",
       "      <td>1.939983</td>\n",
       "    </tr>\n",
       "    <tr>\n",
       "      <th>min</th>\n",
       "      <td>0.000000</td>\n",
       "      <td>0.000000</td>\n",
       "      <td>0.000000</td>\n",
       "      <td>0.000000</td>\n",
       "      <td>5.000000</td>\n",
       "      <td>0.000000</td>\n",
       "      <td>0.000000</td>\n",
       "      <td>0.000000</td>\n",
       "      <td>0.000000</td>\n",
       "      <td>0.000000</td>\n",
       "      <td>...</td>\n",
       "      <td>0.000000</td>\n",
       "      <td>0.000000</td>\n",
       "      <td>0.000000</td>\n",
       "      <td>0.000000</td>\n",
       "      <td>0.000000</td>\n",
       "      <td>0.000000</td>\n",
       "      <td>0.000000</td>\n",
       "      <td>0.000000</td>\n",
       "      <td>0.000000</td>\n",
       "      <td>0.000000</td>\n",
       "    </tr>\n",
       "    <tr>\n",
       "      <th>25%</th>\n",
       "      <td>3.000000</td>\n",
       "      <td>0.000000</td>\n",
       "      <td>1.000000</td>\n",
       "      <td>0.000000</td>\n",
       "      <td>31.000000</td>\n",
       "      <td>0.000000</td>\n",
       "      <td>1.000000</td>\n",
       "      <td>1.000000</td>\n",
       "      <td>0.000000</td>\n",
       "      <td>0.000000</td>\n",
       "      <td>...</td>\n",
       "      <td>0.000000</td>\n",
       "      <td>0.000000</td>\n",
       "      <td>0.000000</td>\n",
       "      <td>3.000000</td>\n",
       "      <td>0.000000</td>\n",
       "      <td>1.000000</td>\n",
       "      <td>0.000000</td>\n",
       "      <td>0.000000</td>\n",
       "      <td>3.000000</td>\n",
       "      <td>1.000000</td>\n",
       "    </tr>\n",
       "    <tr>\n",
       "      <th>50%</th>\n",
       "      <td>9.000000</td>\n",
       "      <td>0.000000</td>\n",
       "      <td>2.000000</td>\n",
       "      <td>1.000000</td>\n",
       "      <td>43.000000</td>\n",
       "      <td>0.000000</td>\n",
       "      <td>1.000000</td>\n",
       "      <td>1.000000</td>\n",
       "      <td>1.000000</td>\n",
       "      <td>0.000000</td>\n",
       "      <td>...</td>\n",
       "      <td>0.000000</td>\n",
       "      <td>1.000000</td>\n",
       "      <td>1.000000</td>\n",
       "      <td>6.000000</td>\n",
       "      <td>0.000000</td>\n",
       "      <td>2.000000</td>\n",
       "      <td>1.000000</td>\n",
       "      <td>0.000000</td>\n",
       "      <td>4.000000</td>\n",
       "      <td>1.000000</td>\n",
       "    </tr>\n",
       "    <tr>\n",
       "      <th>75%</th>\n",
       "      <td>19.000000</td>\n",
       "      <td>1.000000</td>\n",
       "      <td>3.000000</td>\n",
       "      <td>2.000000</td>\n",
       "      <td>72.000000</td>\n",
       "      <td>2.000000</td>\n",
       "      <td>3.000000</td>\n",
       "      <td>3.000000</td>\n",
       "      <td>1.000000</td>\n",
       "      <td>1.000000</td>\n",
       "      <td>...</td>\n",
       "      <td>0.000000</td>\n",
       "      <td>2.000000</td>\n",
       "      <td>4.000000</td>\n",
       "      <td>9.000000</td>\n",
       "      <td>4.000000</td>\n",
       "      <td>5.000000</td>\n",
       "      <td>2.000000</td>\n",
       "      <td>0.000000</td>\n",
       "      <td>6.000000</td>\n",
       "      <td>2.000000</td>\n",
       "    </tr>\n",
       "    <tr>\n",
       "      <th>max</th>\n",
       "      <td>57.000000</td>\n",
       "      <td>10.000000</td>\n",
       "      <td>24.000000</td>\n",
       "      <td>8.000000</td>\n",
       "      <td>194.000000</td>\n",
       "      <td>26.000000</td>\n",
       "      <td>8.000000</td>\n",
       "      <td>8.000000</td>\n",
       "      <td>9.000000</td>\n",
       "      <td>6.000000</td>\n",
       "      <td>...</td>\n",
       "      <td>49.000000</td>\n",
       "      <td>6.000000</td>\n",
       "      <td>31.000000</td>\n",
       "      <td>29.000000</td>\n",
       "      <td>89.000000</td>\n",
       "      <td>41.000000</td>\n",
       "      <td>165.000000</td>\n",
       "      <td>15.000000</td>\n",
       "      <td>19.000000</td>\n",
       "      <td>10.000000</td>\n",
       "    </tr>\n",
       "  </tbody>\n",
       "</table>\n",
       "<p>8 rows × 38 columns</p>\n",
       "</div>"
      ],
      "text/plain": [
       "              ADA         ARK         BCH         BCN         BTC         BTG  \\\n",
       "count  135.000000  257.000000  205.000000  257.000000  257.000000  257.000000   \n",
       "mean    12.718519    0.482490    2.326829    1.085603   57.470817    1.941634   \n",
       "std     11.771235    0.976624    2.744962    1.284092   38.263786    3.888145   \n",
       "min      0.000000    0.000000    0.000000    0.000000    5.000000    0.000000   \n",
       "25%      3.000000    0.000000    1.000000    0.000000   31.000000    0.000000   \n",
       "50%      9.000000    0.000000    2.000000    1.000000   43.000000    0.000000   \n",
       "75%     19.000000    1.000000    3.000000    2.000000   72.000000    2.000000   \n",
       "max     57.000000   10.000000   24.000000    8.000000  194.000000   26.000000   \n",
       "\n",
       "              BTS        DASH         DCR         DGB     ...           STRAT  \\\n",
       "count  257.000000  257.000000  257.000000  257.000000     ...      257.000000   \n",
       "mean     1.828794    1.844358    0.797665    0.622568     ...        0.603113   \n",
       "std      1.618336    1.662752    1.095942    1.027720     ...        3.344490   \n",
       "min      0.000000    0.000000    0.000000    0.000000     ...        0.000000   \n",
       "25%      1.000000    1.000000    0.000000    0.000000     ...        0.000000   \n",
       "50%      1.000000    1.000000    1.000000    0.000000     ...        0.000000   \n",
       "75%      3.000000    3.000000    1.000000    1.000000     ...        0.000000   \n",
       "max      8.000000    8.000000    9.000000    6.000000     ...       49.000000   \n",
       "\n",
       "            WAVES         XLM         XMR         XRB         XRP         XVG  \\\n",
       "count  257.000000  257.000000  257.000000  257.000000  257.000000  257.000000   \n",
       "mean     1.346304    3.280156    7.272374    6.389105    4.486381    4.731518   \n",
       "std      1.400584    5.238764    5.317620   14.045280    6.096939   15.044527   \n",
       "min      0.000000    0.000000    0.000000    0.000000    0.000000    0.000000   \n",
       "25%      0.000000    0.000000    3.000000    0.000000    1.000000    0.000000   \n",
       "50%      1.000000    1.000000    6.000000    0.000000    2.000000    1.000000   \n",
       "75%      2.000000    4.000000    9.000000    4.000000    5.000000    2.000000   \n",
       "max      6.000000   31.000000   29.000000   89.000000   41.000000  165.000000   \n",
       "\n",
       "              ZCL         ZEC         ZRX  \n",
       "count  257.000000  257.000000  181.000000  \n",
       "mean     0.498054    4.556420    1.795580  \n",
       "std      1.417316    2.763767    1.939983  \n",
       "min      0.000000    0.000000    0.000000  \n",
       "25%      0.000000    3.000000    1.000000  \n",
       "50%      0.000000    4.000000    1.000000  \n",
       "75%      0.000000    6.000000    2.000000  \n",
       "max     15.000000   19.000000   10.000000  \n",
       "\n",
       "[8 rows x 38 columns]"
      ]
     },
     "execution_count": 180,
     "metadata": {},
     "output_type": "execute_result"
    }
   ],
   "source": [
    "feature_df = pd.concat(dfs, axis=1)\n",
    "feature_df.describe()"
   ]
  },
  {
   "cell_type": "code",
   "execution_count": 181,
   "metadata": {},
   "outputs": [],
   "source": [
    "feature_df = feature_df.fillna(0)"
   ]
  },
  {
   "cell_type": "markdown",
   "metadata": {},
   "source": [
    "## Perform PCA on _feature_df_  for both the first 2 principal components and 3 components"
   ]
  },
  {
   "cell_type": "code",
   "execution_count": 182,
   "metadata": {},
   "outputs": [
    {
     "name": "stdout",
     "output_type": "stream",
     "text": [
      "Explained variation per principal component: [0.5704743  0.12209294 0.10003799]\n"
     ]
    }
   ],
   "source": [
    "pca = PCA(n_components=3)\n",
    "pca_result = pca.fit_transform(feature_df[feat_cols].values)\n",
    "\n",
    "feature_df['pca-one'] = pca_result[:,0]\n",
    "feature_df['pca-two'] = pca_result[:,1] \n",
    "feature_df['pca-three'] = pca_result[:,2]\n",
    "\n",
    "print('Explained variation per principal component: {}'.format(pca.explained_variance_ratio_))"
   ]
  },
  {
   "cell_type": "markdown",
   "metadata": {},
   "source": [
    "## t-SNE on 2 and 3 components"
   ]
  },
  {
   "cell_type": "code",
   "execution_count": 184,
   "metadata": {},
   "outputs": [
    {
     "name": "stdout",
     "output_type": "stream",
     "text": [
      "[t-SNE] Computing 121 nearest neighbors...\n",
      "[t-SNE] Indexed 257 samples in 0.056s...\n",
      "[t-SNE] Computed neighbors for 257 samples in 0.067s...\n",
      "[t-SNE] Computed conditional probabilities for sample 257 / 257\n",
      "[t-SNE] Mean sigma: 8.721321\n",
      "[t-SNE] KL divergence after 250 iterations with early exaggeration: 59.415577\n",
      "[t-SNE] Error after 300 iterations: 0.375539\n",
      "t-SNE done! Time elapsed: 2.901494026184082 seconds\n"
     ]
    }
   ],
   "source": [
    "import time\n",
    "from sklearn.manifold import TSNE\n",
    "\n",
    "time_start = time.time()\n",
    "tsne = TSNE(n_components=2, verbose=1, perplexity=40, n_iter=300)\n",
    "tsne_results = tsne.fit_transform(feature_df[feat_cols].values)\n",
    "\n",
    "print ('t-SNE done! Time elapsed: {} seconds'.format(time.time()-time_start))"
   ]
  },
  {
   "cell_type": "code",
   "execution_count": 186,
   "metadata": {},
   "outputs": [
    {
     "name": "stdout",
     "output_type": "stream",
     "text": [
      "[t-SNE] Computing 121 nearest neighbors...\n",
      "[t-SNE] Indexed 257 samples in 0.001s...\n",
      "[t-SNE] Computed neighbors for 257 samples in 0.011s...\n",
      "[t-SNE] Computed conditional probabilities for sample 257 / 257\n",
      "[t-SNE] Mean sigma: 8.721321\n",
      "[t-SNE] KL divergence after 250 iterations with early exaggeration: 122.020691\n",
      "[t-SNE] Error after 300 iterations: 3.234516\n",
      "t-SNE done! Time elapsed: 2.91393780708313 seconds\n"
     ]
    }
   ],
   "source": [
    "time_start = time.time()\n",
    "tsne = TSNE(n_components=3, verbose=1, perplexity=40, n_iter=300)\n",
    "tsne_results = tsne.fit_transform(feature_df[feat_cols].values)\n",
    "\n",
    "print ('t-SNE done! Time elapsed: {} seconds'.format(time.time()-time_start))"
   ]
  },
  {
   "cell_type": "markdown",
   "metadata": {},
   "source": [
    "## Map symbols to coin function labels before plotting"
   ]
  },
  {
   "cell_type": "code",
   "execution_count": null,
   "metadata": {},
   "outputs": [],
   "source": [
    "#labels = {'ADA':'utility','BTC':'payment', 'BCH':'payment', 'BCD':'payment', 'BTG':'payment', 'DASH':'payment', 'DCR':'payment', \n",
    "#    'DOGE':'payment', 'ETN':'payment', 'LTC':'payment', 'PIVX':'payment', 'XLM':'payment', 'XMR':'payment', \n",
    "#    'XRB':'payment', 'XRP':'payment', 'ZEC':'payment','ARK':'utility', 'BTS':'utility', \n",
    "#    'DGB':'utility', 'DRGN':'utility', 'EOS':'utility', 'FCT':'utility', 'GNT':'utility', 'LSK':'utility', \n",
    "#    'NEO':'utility', 'OMG':'utility', 'QTUM':'utility', 'REP':'utility', 'RHOC':'utility', 'SNT':'utility', \n",
    "#    'STEEM':'utility', 'STRAT':'utility', 'WAVES':'utility','ZRX':'utility','ETH':'payment_utility',\n",
    "#    'SC':'asset_utility','BCN':'unknown','XVG':'unknown', 'ZCL':'unknown'}"
   ]
  },
  {
   "cell_type": "code",
   "execution_count": 188,
   "metadata": {},
   "outputs": [],
   "source": [
    "#labels[symbol]\n",
    "#for i in coins:\n",
    "    #print(i + \" \" + labels[i])"
   ]
  },
  {
   "cell_type": "code",
   "execution_count": 190,
   "metadata": {},
   "outputs": [],
   "source": [
    "feature_df.rename(columns={'ADA':'utility','BTC':'payment', 'BCH':'payment', 'BCD':'payment', 'BTG':'payment', 'DASH':'payment', 'DCR':'payment', \n",
    "    'DOGE':'payment', 'ETN':'payment', 'LTC':'payment', 'PIVX':'payment', 'XLM':'payment', 'XMR':'payment', \n",
    "    'XRB':'payment', 'XRP':'payment', 'ZEC':'payment','ARK':'utility', 'BTS':'utility', \n",
    "    'DGB':'utility', 'DRGN':'utility', 'EOS':'utility', 'FCT':'utility', 'GNT':'utility', 'LSK':'utility', \n",
    "    'NEO':'utility', 'OMG':'utility', 'QTUM':'utility', 'REP':'utility', 'RHOC':'utility', 'SNT':'utility', \n",
    "    'STEEM':'utility', 'STRAT':'utility', 'WAVES':'utility','ZRX':'utility','ETH':'payment_utility',\n",
    "    'SC':'asset_utility','BCN':'unknown','XVG':'unknown', 'ZCL':'unknown'},\n",
    "                 inplace=True)\n",
    "#print(feature_df)"
   ]
  },
  {
   "cell_type": "code",
   "execution_count": null,
   "metadata": {},
   "outputs": [],
   "source": [
    "#print(feature_df.columns.values)\n",
    "#for i in range(0,38):\n",
    "    #print(feature_df.columns[i])"
   ]
  },
  {
   "cell_type": "code",
   "execution_count": 195,
   "metadata": {},
   "outputs": [
    {
     "name": "stdout",
     "output_type": "stream",
     "text": [
      "     utility  utility  payment  unknown  payment  payment  utility  payment  \\\n",
      "0        0.0        0      1.0        0       31        0        0        1   \n",
      "1       19.0        0      3.0        2       36        0        0        2   \n",
      "2        7.0        0      7.0        1       28        0        0        1   \n",
      "3        8.0        0      3.0        2       29        0        1        0   \n",
      "4        3.0        0      4.0        1       31        0        2        2   \n",
      "5        7.0        0      3.0        1       33        0        1        0   \n",
      "6        4.0        0      4.0        1       43        0        1        0   \n",
      "7        5.0        0      6.0        3       28        0        2        1   \n",
      "8        3.0        1      4.0        0       22        0        5        1   \n",
      "9        4.0        0     13.0        1       19        0        5        0   \n",
      "10       2.0        1     24.0        1       38        0        1        1   \n",
      "11       6.0        0     13.0        0       35        0        3        2   \n",
      "12       4.0        0      3.0        0       30        0        5        0   \n",
      "13       7.0        0      1.0        1       29        0        2        0   \n",
      "14       4.0        0      2.0        2       28        0        2        2   \n",
      "15       2.0        0      4.0        2       35        0        3        2   \n",
      "16       7.0        0      4.0        0       27        0        0        0   \n",
      "17       1.0        0      1.0        2       28        0        1        1   \n",
      "18       4.0        0      1.0        0       29        0        3        1   \n",
      "19       2.0        0      1.0        0       34        0        1        0   \n",
      "20       3.0        1      0.0        1       35        0        3        2   \n",
      "21       2.0        0      1.0        0       32        0        2        0   \n",
      "22       2.0        1      1.0        0       40        0        1        0   \n",
      "23       3.0        1      1.0        0       24        0        1        1   \n",
      "24       1.0        0      0.0        1       26        0        2        1   \n",
      "25       0.0        0      1.0        1       42        0        0        0   \n",
      "26       1.0        0      4.0        0       35        0        2        0   \n",
      "27       1.0        0      4.0        0       41        0        2        0   \n",
      "28       1.0        0      3.0        0       27        0        2        2   \n",
      "29       4.0        0      2.0        1       29        0        1        2   \n",
      "..       ...      ...      ...      ...      ...      ...      ...      ...   \n",
      "227      0.0        0      0.0        1      111        3        1        3   \n",
      "228      0.0        2      0.0        4      141        0        4        1   \n",
      "229      0.0        0      0.0        3      140        0        6        3   \n",
      "230      0.0        1      0.0        1      112        0        2        6   \n",
      "231      0.0       10      0.0        4      137        1        8        5   \n",
      "232      0.0        5      0.0        1      129        0        3        2   \n",
      "233      0.0        1      0.0        4       97        2        4        2   \n",
      "234      0.0        4      0.0        4       81        1        3        5   \n",
      "235      0.0        1      0.0        2       92        1        7        3   \n",
      "236      0.0        1      0.0        0       97        2        1        3   \n",
      "237      0.0        0      0.0        3       96        0        6        3   \n",
      "238      0.0        3      0.0        3       87        1        3        3   \n",
      "239      0.0        3      0.0        2       70        1        2        2   \n",
      "240      0.0        2      0.0        1       37        1        1        1   \n",
      "241      0.0        1      0.0        0       48        0        2        0   \n",
      "242      0.0        1      0.0        0       75        1        8        0   \n",
      "243      0.0        1      0.0        0       91        2        3        2   \n",
      "244      0.0        0      0.0        1       99        0        5        3   \n",
      "245      0.0        0      0.0        2       87        0        5        5   \n",
      "246      0.0        0      0.0        0       68        0        2        1   \n",
      "247      0.0        0      0.0        2       52        0        2        3   \n",
      "248      0.0        2      0.0        1       67        0        2        1   \n",
      "249      0.0        1      0.0        0       73        0        3        0   \n",
      "250      0.0        1      0.0        1       75        3        4        1   \n",
      "251      0.0        1      0.0        2       74        3        3        1   \n",
      "252      0.0        0      0.0        3       72        0        2        3   \n",
      "253      0.0        0      0.0        1       11        1        2        4   \n",
      "254      0.0        0      0.0        4        5        0        3        1   \n",
      "255      0.0        0      0.0        0       49        1        1        0   \n",
      "256      0.0        1      0.0        1       38        0        1        2   \n",
      "\n",
      "     payment  utility    ...      payment  payment  payment  unknown  unknown  \\\n",
      "0          1        0    ...            0        0        5        1        0   \n",
      "1          0        4    ...            2        0        3        0        0   \n",
      "2          0        4    ...            4        0        4        0        0   \n",
      "3          0        6    ...            3        0        3        0        0   \n",
      "4          0        1    ...            6        0        6        2        0   \n",
      "5          1        2    ...            5        0        0        1        0   \n",
      "6          0        0    ...            1        0        0        0        0   \n",
      "7          0        1    ...            4        0        2        2        0   \n",
      "8          0        1    ...            3        0        3        0        0   \n",
      "9          0        4    ...            2        0        3        0        0   \n",
      "10         0        2    ...            0        0        1        0        0   \n",
      "11         0        3    ...            2        0        3        0        0   \n",
      "12         1        0    ...            4        1        1        0        1   \n",
      "13         1        1    ...            6        1        1        0        0   \n",
      "14         1        1    ...            4        1        3        0        2   \n",
      "15         0        2    ...            5        0        6        0        0   \n",
      "16         2        0    ...            3        0        2        0        0   \n",
      "17         0        0    ...            5        0        1        0        0   \n",
      "18         0        0    ...            4        0        0        0        0   \n",
      "19         1        1    ...            1        0        2        0        1   \n",
      "20         0        2    ...            5        0        0        0        0   \n",
      "21         0        2    ...            3        0        2        1        0   \n",
      "22         0        0    ...            3        1        1        1        0   \n",
      "23         0        0    ...            3        1        4        0        0   \n",
      "24         0        0    ...            4        0        1        1        0   \n",
      "25         0        0    ...            4        0        0        0        1   \n",
      "26         2        1    ...            2        1        3        1        0   \n",
      "27         0        1    ...            2        1        1        1        0   \n",
      "28         0        0    ...            2        0        5        0        0   \n",
      "29         0        0    ...            5        0        2        0        0   \n",
      "..       ...      ...    ...          ...      ...      ...      ...      ...   \n",
      "227        2        2    ...           18       22       11       11        0   \n",
      "228        1        0    ...            8       29       13        8        2   \n",
      "229        1        1    ...           13       26       14       12        3   \n",
      "230        1        1    ...           11       27        9        7        0   \n",
      "231        2        2    ...           12       26       14        9        0   \n",
      "232        0        0    ...           12       15        8        6        1   \n",
      "233        3        0    ...           11       15        6        6        0   \n",
      "234        1        0    ...           19       11        8       11        0   \n",
      "235        1        1    ...            8       17        6        8        1   \n",
      "236        1        1    ...            9        5        7        3        1   \n",
      "237        1        2    ...           12        9        3        8        1   \n",
      "238        2        1    ...            8       14        7        4        4   \n",
      "239        0        0    ...            9       16        5        1        1   \n",
      "240        2        1    ...           14       12        7        0        1   \n",
      "241        1        0    ...            6       13        3        2        1   \n",
      "242        2        0    ...           12       11        3        0        0   \n",
      "243        1        0    ...           10       13        1        3        0   \n",
      "244        3        1    ...           13       23        4        1        0   \n",
      "245        1        1    ...            4       13        3        0        0   \n",
      "246        1        0    ...            8       13        7        3        0   \n",
      "247        1        0    ...           13        8        7        2        1   \n",
      "248        2        0    ...            8       11        4        1        0   \n",
      "249        2        0    ...            8       11        5        2        0   \n",
      "250        0        0    ...            6        7        5        2        0   \n",
      "251        0        1    ...            7       11       13        0        0   \n",
      "252        0        1    ...           10       11        8        0        1   \n",
      "253        1        0    ...            6       10        6        1        2   \n",
      "254        3        0    ...            3        3        5        0        3   \n",
      "255        1        0    ...            5        9        5        0        0   \n",
      "256        1        1    ...            2        3        3        2        0   \n",
      "\n",
      "     payment  utility    pca-one    pca-two  pca-three  \n",
      "0          9      1.0 -25.278327  -6.893722   3.675701  \n",
      "1          5      3.0 -18.497103  -0.276630  -3.344540  \n",
      "2          3      2.0 -27.658632  15.106577 -16.705071  \n",
      "3          1      7.0 -28.546554   4.580235  -4.577872  \n",
      "4          3      4.0 -21.390029  -2.550802  -2.476965  \n",
      "5          7      1.0 -22.924053  -7.586931   3.241795  \n",
      "6          7      3.0 -13.918968  -6.830606   7.296989  \n",
      "7         11      1.0 -32.782393   5.583753  -3.912707  \n",
      "8          4      1.0 -37.925858  -2.587319   1.237685  \n",
      "9          5      3.0 -35.674988  -0.840157   0.920012  \n",
      "10         3      2.0 -23.208128   0.825242   1.019851  \n",
      "11         7      3.0 -16.486146 -11.744819   5.784596  \n",
      "12         5      2.0 -16.043876 -15.449834  13.224650  \n",
      "13         8      0.0 -21.712779 -10.113600   3.135245  \n",
      "14         7      1.0 -26.137137 -11.347596   5.271285  \n",
      "15         6      0.0 -24.749032  -5.706447   1.450339  \n",
      "16         2      5.0 -31.533972  -3.238424  -0.973247  \n",
      "17         4      0.0 -28.763881  -7.130260   2.445112  \n",
      "18        11      2.0 -29.087427   1.842443  -1.330340  \n",
      "19         6      1.0 -19.154471 -14.315889  10.197072  \n",
      "20         7      4.0 -24.883030  -3.109723   1.522015  \n",
      "21         2      1.0 -24.379960 -10.290509   4.113518  \n",
      "22         5      0.0 -19.835229  -8.782798   2.221922  \n",
      "23         4      1.0 -29.795622  -2.788302  -3.867363  \n",
      "24         5      1.0 -32.565498  -0.700423  -2.082931  \n",
      "25         1      0.0 -20.892510  -4.558461   1.660081  \n",
      "26         7      3.0 -23.608982  -3.957396   0.883501  \n",
      "27         4      0.0 -13.066266  -2.923573  -1.027299  \n",
      "28         3      0.0 -32.181655  -7.624482   2.411126  \n",
      "29         2      1.0 -31.170346  -3.569864  -0.307876  \n",
      "..       ...      ...        ...        ...        ...  \n",
      "227        5      0.0  61.160683 -23.044758  14.755257  \n",
      "228        4      0.0  96.459189 -33.634586  29.312246  \n",
      "229        6      0.0  95.145002 -36.250848  23.473613  \n",
      "230       12      0.0  66.859285 -29.595860  21.030979  \n",
      "231        7      0.0  81.075408 -19.870995  14.283907  \n",
      "232        5      0.0  75.205520 -29.719227  23.371750  \n",
      "233        1      0.0  40.117008 -14.932645  15.626950  \n",
      "234        6      0.0  22.967123 -14.252844   3.666964  \n",
      "235        5      0.0  43.494629 -24.513571  18.374626  \n",
      "236        4      0.0  44.208560 -26.326681  24.000636  \n",
      "237        7      0.0  51.258930 -30.410095  27.396166  \n",
      "238        6      0.0  38.710160 -26.553647  19.222614  \n",
      "239        6      0.0  19.369959 -19.925542  15.117396  \n",
      "240        5      0.0   1.735621 -34.447451  21.453570  \n",
      "241        6      0.0   8.726121 -31.914541  22.034865  \n",
      "242        6      0.0  39.335954 -33.262618  37.691232  \n",
      "243        7      0.0  47.813942 -30.833284  27.886587  \n",
      "244        4      0.0  55.231538 -18.213028  33.804426  \n",
      "245        4      0.0  32.198768 -19.110903  21.328817  \n",
      "246        7      0.0  11.225118  -6.935115  14.704791  \n",
      "247        5      0.0  -6.005401 -11.340304   5.761295  \n",
      "248        8      0.0   8.012950 -14.907008   9.059196  \n",
      "249        3      0.0  21.470219 -25.440977  15.951094  \n",
      "250        7      0.0  22.532300 -22.420047  19.891439  \n",
      "251        7      0.0  21.566912 -23.204625  16.930375  \n",
      "252        8      0.0  19.206786 -18.088136  18.404787  \n",
      "253        6      0.0 -36.596807 -13.721713   8.029605  \n",
      "254        3      0.0 -62.238756   8.466386  -6.259780  \n",
      "255        5      0.0 -22.912841   3.425151  -5.853160  \n",
      "256        1      0.0 -26.493713  -4.953633   1.730893  \n",
      "\n",
      "[257 rows x 41 columns]\n"
     ]
    }
   ],
   "source": [
    "print(feature_df)"
   ]
  },
  {
   "cell_type": "markdown",
   "metadata": {},
   "source": [
    "## Plot PCA for both the 1st 2 principal components and 3 components"
   ]
  },
  {
   "cell_type": "code",
   "execution_count": 197,
   "metadata": {},
   "outputs": [
    {
     "ename": "ValueError",
     "evalue": "The truth value of an array with more than one element is ambiguous. Use a.any() or a.all()",
     "output_type": "error",
     "traceback": [
      "\u001b[0;31m---------------------------------------------------------------------------\u001b[0m",
      "\u001b[0;31mValueError\u001b[0m                                Traceback (most recent call last)",
      "\u001b[0;32m<ipython-input-197-1fe0779d3f08>\u001b[0m in \u001b[0;36m<module>\u001b[0;34m()\u001b[0m\n\u001b[1;32m      1\u001b[0m \u001b[0;32mfrom\u001b[0m \u001b[0mggplot\u001b[0m \u001b[0;32mimport\u001b[0m \u001b[0;34m*\u001b[0m\u001b[0;34m\u001b[0m\u001b[0m\n\u001b[1;32m      2\u001b[0m \u001b[0;34m\u001b[0m\u001b[0m\n\u001b[0;32m----> 3\u001b[0;31m \u001b[0mchart\u001b[0m \u001b[0;34m=\u001b[0m \u001b[0mggplot\u001b[0m\u001b[0;34m(\u001b[0m\u001b[0mfeature_df\u001b[0m\u001b[0;34m,\u001b[0m \u001b[0maes\u001b[0m\u001b[0;34m(\u001b[0m\u001b[0mx\u001b[0m\u001b[0;34m=\u001b[0m\u001b[0;34m'pca-one'\u001b[0m\u001b[0;34m,\u001b[0m \u001b[0my\u001b[0m\u001b[0;34m=\u001b[0m\u001b[0;34m'pca-two'\u001b[0m\u001b[0;34m,\u001b[0m \u001b[0mcolor\u001b[0m\u001b[0;34m=\u001b[0m\u001b[0mfeature_df\u001b[0m\u001b[0;34m.\u001b[0m\u001b[0mcolumns\u001b[0m\u001b[0;34m)\u001b[0m \u001b[0;34m)\u001b[0m         \u001b[0;34m+\u001b[0m \u001b[0mgeom_point\u001b[0m\u001b[0;34m(\u001b[0m\u001b[0msize\u001b[0m\u001b[0;34m=\u001b[0m\u001b[0;36m75\u001b[0m\u001b[0;34m,\u001b[0m\u001b[0malpha\u001b[0m\u001b[0;34m=\u001b[0m\u001b[0;36m0.8\u001b[0m\u001b[0;34m)\u001b[0m         \u001b[0;34m+\u001b[0m \u001b[0mggtitle\u001b[0m\u001b[0;34m(\u001b[0m\u001b[0;34m\"First and Second Principal Components colored by coin function\"\u001b[0m\u001b[0;34m)\u001b[0m\u001b[0;34m\u001b[0m\u001b[0m\n\u001b[0m\u001b[1;32m      4\u001b[0m \u001b[0mchart\u001b[0m\u001b[0;34m\u001b[0m\u001b[0m\n",
      "\u001b[0;32m/anaconda3/lib/python3.6/site-packages/ggplot/ggplot.py\u001b[0m in \u001b[0;36m__init__\u001b[0;34m(self, aesthetics, data)\u001b[0m\n\u001b[1;32m     53\u001b[0m         \u001b[0mself\u001b[0m\u001b[0;34m.\u001b[0m\u001b[0m_aes\u001b[0m \u001b[0;34m=\u001b[0m \u001b[0maesthetics\u001b[0m\u001b[0;34m\u001b[0m\u001b[0m\n\u001b[1;32m     54\u001b[0m         \u001b[0mself\u001b[0m\u001b[0;34m.\u001b[0m\u001b[0mdata\u001b[0m \u001b[0;34m=\u001b[0m \u001b[0mdata\u001b[0m\u001b[0;34m.\u001b[0m\u001b[0mcopy\u001b[0m\u001b[0;34m(\u001b[0m\u001b[0;34m)\u001b[0m\u001b[0;34m\u001b[0m\u001b[0m\n\u001b[0;32m---> 55\u001b[0;31m         \u001b[0mself\u001b[0m\u001b[0;34m.\u001b[0m\u001b[0m_handle_index\u001b[0m\u001b[0;34m(\u001b[0m\u001b[0;34m)\u001b[0m\u001b[0;34m\u001b[0m\u001b[0m\n\u001b[0m\u001b[1;32m     56\u001b[0m         \u001b[0mself\u001b[0m\u001b[0;34m.\u001b[0m\u001b[0mdata\u001b[0m \u001b[0;34m=\u001b[0m \u001b[0mself\u001b[0m\u001b[0;34m.\u001b[0m\u001b[0m_aes\u001b[0m\u001b[0;34m.\u001b[0m\u001b[0m_evaluate_expressions\u001b[0m\u001b[0;34m(\u001b[0m\u001b[0mself\u001b[0m\u001b[0;34m.\u001b[0m\u001b[0mdata\u001b[0m\u001b[0;34m)\u001b[0m\u001b[0;34m\u001b[0m\u001b[0m\n\u001b[1;32m     57\u001b[0m         \u001b[0mself\u001b[0m\u001b[0;34m.\u001b[0m\u001b[0mdata\u001b[0m \u001b[0;34m=\u001b[0m \u001b[0mself\u001b[0m\u001b[0;34m.\u001b[0m\u001b[0m_aes\u001b[0m\u001b[0;34m.\u001b[0m\u001b[0mhandle_identity_values\u001b[0m\u001b[0;34m(\u001b[0m\u001b[0mself\u001b[0m\u001b[0;34m.\u001b[0m\u001b[0mdata\u001b[0m\u001b[0;34m)\u001b[0m\u001b[0;34m\u001b[0m\u001b[0m\n",
      "\u001b[0;32m/anaconda3/lib/python3.6/site-packages/ggplot/ggplot.py\u001b[0m in \u001b[0;36m_handle_index\u001b[0;34m(self)\u001b[0m\n\u001b[1;32m    132\u001b[0m \u001b[0;34m\u001b[0m\u001b[0m\n\u001b[1;32m    133\u001b[0m     \u001b[0;32mdef\u001b[0m \u001b[0m_handle_index\u001b[0m\u001b[0;34m(\u001b[0m\u001b[0mself\u001b[0m\u001b[0;34m)\u001b[0m\u001b[0;34m:\u001b[0m\u001b[0;34m\u001b[0m\u001b[0m\n\u001b[0;32m--> 134\u001b[0;31m         \u001b[0;32mif\u001b[0m \u001b[0;34m'__index__'\u001b[0m \u001b[0;32min\u001b[0m \u001b[0mself\u001b[0m\u001b[0;34m.\u001b[0m\u001b[0m_aes\u001b[0m\u001b[0;34m.\u001b[0m\u001b[0mvalues\u001b[0m\u001b[0;34m(\u001b[0m\u001b[0;34m)\u001b[0m\u001b[0;34m:\u001b[0m\u001b[0;34m\u001b[0m\u001b[0m\n\u001b[0m\u001b[1;32m    135\u001b[0m             \u001b[0mself\u001b[0m\u001b[0;34m.\u001b[0m\u001b[0mdata\u001b[0m\u001b[0;34m[\u001b[0m\u001b[0;34m'__index__'\u001b[0m\u001b[0;34m]\u001b[0m \u001b[0;34m=\u001b[0m \u001b[0mself\u001b[0m\u001b[0;34m.\u001b[0m\u001b[0mdata\u001b[0m\u001b[0;34m.\u001b[0m\u001b[0mindex\u001b[0m\u001b[0;34m\u001b[0m\u001b[0m\n\u001b[1;32m    136\u001b[0m \u001b[0;34m\u001b[0m\u001b[0m\n",
      "\u001b[0;32m/anaconda3/lib/python3.6/_collections_abc.py\u001b[0m in \u001b[0;36m__contains__\u001b[0;34m(self, value)\u001b[0m\n\u001b[1;32m    754\u001b[0m         \u001b[0;32mfor\u001b[0m \u001b[0mkey\u001b[0m \u001b[0;32min\u001b[0m \u001b[0mself\u001b[0m\u001b[0;34m.\u001b[0m\u001b[0m_mapping\u001b[0m\u001b[0;34m:\u001b[0m\u001b[0;34m\u001b[0m\u001b[0m\n\u001b[1;32m    755\u001b[0m             \u001b[0mv\u001b[0m \u001b[0;34m=\u001b[0m \u001b[0mself\u001b[0m\u001b[0;34m.\u001b[0m\u001b[0m_mapping\u001b[0m\u001b[0;34m[\u001b[0m\u001b[0mkey\u001b[0m\u001b[0;34m]\u001b[0m\u001b[0;34m\u001b[0m\u001b[0m\n\u001b[0;32m--> 756\u001b[0;31m             \u001b[0;32mif\u001b[0m \u001b[0mv\u001b[0m \u001b[0;32mis\u001b[0m \u001b[0mvalue\u001b[0m \u001b[0;32mor\u001b[0m \u001b[0mv\u001b[0m \u001b[0;34m==\u001b[0m \u001b[0mvalue\u001b[0m\u001b[0;34m:\u001b[0m\u001b[0;34m\u001b[0m\u001b[0m\n\u001b[0m\u001b[1;32m    757\u001b[0m                 \u001b[0;32mreturn\u001b[0m \u001b[0;32mTrue\u001b[0m\u001b[0;34m\u001b[0m\u001b[0m\n\u001b[1;32m    758\u001b[0m         \u001b[0;32mreturn\u001b[0m \u001b[0;32mFalse\u001b[0m\u001b[0;34m\u001b[0m\u001b[0m\n",
      "\u001b[0;31mValueError\u001b[0m: The truth value of an array with more than one element is ambiguous. Use a.any() or a.all()"
     ]
    }
   ],
   "source": [
    "from ggplot import *\n",
    "\n",
    "chart = ggplot(feature_df, aes(x='pca-one', y='pca-two', color=feature_df.columns) ) \\\n",
    "        + geom_point(size=75,alpha=0.8) \\\n",
    "        + ggtitle(\"First and Second Principal Components colored by coin function\")\n",
    "chart"
   ]
  },
  {
   "cell_type": "code",
   "execution_count": 196,
   "metadata": {},
   "outputs": [
    {
     "data": {
      "image/png": "[encoded data removed]",
      "text/plain": [
       "<Figure size 792x576 with 1 Axes>"
      ]
     },
     "metadata": {},
     "output_type": "display_data"
    },
    {
     "data": {
      "text/plain": [
       "<ggplot: (7551256896)>"
      ]
     },
     "execution_count": 196,
     "metadata": {},
     "output_type": "execute_result"
    }
   ],
   "source": [
    "from ggplot import *\n",
    "\n",
    "chart = ggplot(feature_df, aes(x='pca-one', y='pca-two') ) \\\n",
    "        + geom_point(size=75,alpha=0.8) \\\n",
    "        + ggtitle(\"First and Second Principal Components\")\n",
    "chart"
   ]
  },
  {
   "cell_type": "markdown",
   "metadata": {},
   "source": [
    "## Plot t-SNE "
   ]
  },
  {
   "cell_type": "markdown",
   "metadata": {},
   "source": [
    "Visualise the two dimensions by creating a scatter plot and coloring each sample by its respective label"
   ]
  },
  {
   "cell_type": "code",
   "execution_count": 199,
   "metadata": {
    "scrolled": true
   },
   "outputs": [
    {
     "data": {
      "image/png": "[encoded data removed]",
      "text/plain": [
       "<Figure size 792x576 with 1 Axes>"
      ]
     },
     "metadata": {},
     "output_type": "display_data"
    },
    {
     "data": {
      "text/plain": [
       "<ggplot: (7553113934)>"
      ]
     },
     "execution_count": 199,
     "metadata": {},
     "output_type": "execute_result"
    }
   ],
   "source": [
    "df_tsne = feature_df.copy()\n",
    "df_tsne['x-tsne'] = tsne_results[:,0]\n",
    "df_tsne['y-tsne'] = tsne_results[:,1]\n",
    "\n",
    "chart = ggplot( df_tsne, aes(x='x-tsne', y='y-tsne') ) \\\n",
    "        + geom_point(size=70,alpha=0.1) \\\n",
    "        + ggtitle(\"tSNE dimensions colored by digit\")\n",
    "chart"
   ]
  },
  {
   "cell_type": "code",
   "execution_count": null,
   "metadata": {},
   "outputs": [],
   "source": [
    "df_tsne = feature_df.copy()\n",
    "df_tsne['x-tsne'] = tsne_results[:,0]\n",
    "df_tsne['y-tsne'] = tsne_results[:,1]\n",
    "\n",
    "chart = ggplot( df_tsne, aes(x='x-tsne', y='y-tsne', color='label') ) \\\n",
    "        + geom_point(size=70,alpha=0.1) \\\n",
    "        + ggtitle(\"tSNE dimensions colored by digit\")\n",
    "chart"
   ]
  },
  {
   "cell_type": "markdown",
   "metadata": {},
   "source": [
    "3 Components"
   ]
  },
  {
   "cell_type": "code",
   "execution_count": null,
   "metadata": {},
   "outputs": [],
   "source": [
    "df_tsne = df.loc[rndperm[:n_sne],:].copy()\n",
    "df_tsne['x-tsne'] = tsne_results[:,0]\n",
    "df_tsne['y-tsne'] = tsne_results[:,1]\n",
    "\n",
    "chart = ggplot( df_tsne, aes(x='x-tsne', y='y-tsne', color='label') ) \\\n",
    "        + geom_point(size=70,alpha=0.1) \\\n",
    "        + ggtitle(\"tSNE dimensions colored by digit\")\n",
    "chart"
   ]
  }
 ],
 "metadata": {
  "kernelspec": {
   "display_name": "Python 3",
   "language": "python",
   "name": "python3"
  },
  "language_info": {
   "codemirror_mode": {
    "name": "ipython",
    "version": 3
   },
   "file_extension": ".py",
   "mimetype": "text/x-python",
   "name": "python",
   "nbconvert_exporter": "python",
   "pygments_lexer": "ipython3",
   "version": "3.6.5"
  }
 },
 "nbformat": 4,
 "nbformat_minor": 2
}
